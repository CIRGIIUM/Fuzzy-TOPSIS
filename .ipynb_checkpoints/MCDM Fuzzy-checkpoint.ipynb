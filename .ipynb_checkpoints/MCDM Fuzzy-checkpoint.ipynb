{
 "cells": [
  {
   "cell_type": "code",
   "execution_count": null,
   "id": "2588c382",
   "metadata": {},
   "outputs": [],
   "source": [
    "#https://github.com/quatrope/scikit-criteria/blob/master/docs/source/tutorial/quickstart.ipynb"
   ]
  },
  {
   "cell_type": "code",
   "execution_count": 2,
   "id": "35c77a88",
   "metadata": {},
   "outputs": [],
   "source": [
    "import skcriteria as skc  # we use skc as an abbreviation for scikit-criteria"
   ]
  },
  {
   "cell_type": "code",
   "execution_count": 4,
   "id": "e7d06a42",
   "metadata": {},
   "outputs": [
    {
     "data": {
      "text/plain": [
       "[[1, 2, 3], [4, 5, 6]]"
      ]
     },
     "execution_count": 4,
     "metadata": {},
     "output_type": "execute_result"
    }
   ],
   "source": [
    "# 2 alternatives by 3 criteria\n",
    "matrix = [\n",
    "    [1, 2, 3],  # alternative 1\n",
    "    [4, 5, 6],  # alternative 2\n",
    "]\n",
    "matrix"
   ]
  },
  {
   "cell_type": "code",
   "execution_count": 5,
   "id": "040b471d",
   "metadata": {},
   "outputs": [
    {
     "data": {
      "text/plain": [
       "[<function max>, <function max>, <function min>]"
      ]
     },
     "execution_count": 5,
     "metadata": {},
     "output_type": "execute_result"
    }
   ],
   "source": [
    "# let's says the first two alternatives are\n",
    "# for maximization and the last one for minimization\n",
    "objectives = [max, max, min]\n",
    "objectives"
   ]
  },
  {
   "cell_type": "code",
   "execution_count": 6,
   "id": "c5fdad04",
   "metadata": {},
   "outputs": [
    {
     "data": {
      "text/html": [
       "<div class='decisionmatrix'>\n",
       "<div>\n",
       "<style scoped>\n",
       "    .dataframe tbody tr th:only-of-type {\n",
       "        vertical-align: middle;\n",
       "    }\n",
       "\n",
       "    .dataframe tbody tr th {\n",
       "        vertical-align: top;\n",
       "    }\n",
       "\n",
       "    .dataframe thead th {\n",
       "        text-align: right;\n",
       "    }\n",
       "</style>\n",
       "<table border=\"1\" class=\"dataframe\">\n",
       "  <thead>\n",
       "    <tr style=\"text-align: right;\">\n",
       "      <th></th>\n",
       "      <th>C0[▼ 1.0]</th>\n",
       "      <th>C1[▲ 1.0]</th>\n",
       "      <th>C2[▼ 1.0]</th>\n",
       "    </tr>\n",
       "  </thead>\n",
       "  <tbody>\n",
       "    <tr>\n",
       "      <th>A0</th>\n",
       "      <td>1</td>\n",
       "      <td>2</td>\n",
       "      <td>3</td>\n",
       "    </tr>\n",
       "    <tr>\n",
       "      <th>A1</th>\n",
       "      <td>4</td>\n",
       "      <td>5</td>\n",
       "      <td>6</td>\n",
       "    </tr>\n",
       "  </tbody>\n",
       "</table>\n",
       "</div><em class='decisionmatrix-dim'>2 Alternatives x 3 Criteria</em>\n",
       "</div>"
      ],
      "text/plain": [
       "    C0[▼ 1.0]  C1[▲ 1.0]  C2[▼ 1.0]\n",
       "A0          1          2          3\n",
       "A1          4          5          6\n",
       "[2 Alternatives x 3 Criteria]"
      ]
     },
     "execution_count": 6,
     "metadata": {},
     "output_type": "execute_result"
    }
   ],
   "source": [
    "# we use the built-in function as aliases\n",
    "dm = skc.mkdm(matrix, [min, max, min])\n",
    "dm"
   ]
  },
  {
   "cell_type": "code",
   "execution_count": 7,
   "id": "fa5fec6e",
   "metadata": {},
   "outputs": [
    {
     "data": {
      "text/html": [
       "<div class='decisionmatrix'>\n",
       "<div>\n",
       "<style scoped>\n",
       "    .dataframe tbody tr th:only-of-type {\n",
       "        vertical-align: middle;\n",
       "    }\n",
       "\n",
       "    .dataframe tbody tr th {\n",
       "        vertical-align: top;\n",
       "    }\n",
       "\n",
       "    .dataframe thead th {\n",
       "        text-align: right;\n",
       "    }\n",
       "</style>\n",
       "<table border=\"1\" class=\"dataframe\">\n",
       "  <thead>\n",
       "    <tr style=\"text-align: right;\">\n",
       "      <th></th>\n",
       "      <th>autonomy[▲ 1.0]</th>\n",
       "      <th>comfort[▲ 1.0]</th>\n",
       "      <th>price[▼ 1.0]</th>\n",
       "    </tr>\n",
       "  </thead>\n",
       "  <tbody>\n",
       "    <tr>\n",
       "      <th>car 0</th>\n",
       "      <td>1</td>\n",
       "      <td>2</td>\n",
       "      <td>3</td>\n",
       "    </tr>\n",
       "    <tr>\n",
       "      <th>car 1</th>\n",
       "      <td>4</td>\n",
       "      <td>5</td>\n",
       "      <td>6</td>\n",
       "    </tr>\n",
       "  </tbody>\n",
       "</table>\n",
       "</div><em class='decisionmatrix-dim'>2 Alternatives x 3 Criteria</em>\n",
       "</div>"
      ],
      "text/plain": [
       "       autonomy[▲ 1.0]  comfort[▲ 1.0]  price[▼ 1.0]\n",
       "car 0                1               2             3\n",
       "car 1                4               5             6\n",
       "[2 Alternatives x 3 Criteria]"
      ]
     },
     "execution_count": 7,
     "metadata": {},
     "output_type": "execute_result"
    }
   ],
   "source": [
    "dm = skc.mkdm(\n",
    "    matrix,\n",
    "    objectives,\n",
    "    alternatives=[\"car 0\", \"car 1\"],\n",
    "    criteria=[\"autonomy\", \"comfort\", \"price\"],\n",
    ")\n",
    "dm"
   ]
  },
  {
   "cell_type": "code",
   "execution_count": 9,
   "id": "42307a05",
   "metadata": {},
   "outputs": [
    {
     "data": {
      "text/html": [
       "<div class='decisionmatrix'>\n",
       "<div>\n",
       "<style scoped>\n",
       "    .dataframe tbody tr th:only-of-type {\n",
       "        vertical-align: middle;\n",
       "    }\n",
       "\n",
       "    .dataframe tbody tr th {\n",
       "        vertical-align: top;\n",
       "    }\n",
       "\n",
       "    .dataframe thead th {\n",
       "        text-align: right;\n",
       "    }\n",
       "</style>\n",
       "<table border=\"1\" class=\"dataframe\">\n",
       "  <thead>\n",
       "    <tr style=\"text-align: right;\">\n",
       "      <th></th>\n",
       "      <th>autonomy[▲ 0.50]</th>\n",
       "      <th>comfort[▲ 0.05]</th>\n",
       "      <th>price[▼ 0.45]</th>\n",
       "    </tr>\n",
       "  </thead>\n",
       "  <tbody>\n",
       "    <tr>\n",
       "      <th>car 0</th>\n",
       "      <td>1</td>\n",
       "      <td>2</td>\n",
       "      <td>3</td>\n",
       "    </tr>\n",
       "    <tr>\n",
       "      <th>car 1</th>\n",
       "      <td>4</td>\n",
       "      <td>5</td>\n",
       "      <td>6</td>\n",
       "    </tr>\n",
       "  </tbody>\n",
       "</table>\n",
       "</div><em class='decisionmatrix-dim'>2 Alternatives x 3 Criteria</em>\n",
       "</div>"
      ],
      "text/plain": [
       "       autonomy[▲ 0.50]  comfort[▲ 0.05]  price[▼ 0.45]\n",
       "car 0                 1                2              3\n",
       "car 1                 4                5              6\n",
       "[2 Alternatives x 3 Criteria]"
      ]
     },
     "execution_count": 9,
     "metadata": {},
     "output_type": "execute_result"
    }
   ],
   "source": [
    "dm = skc.mkdm(\n",
    "    matrix,\n",
    "    objectives,\n",
    "    weights=[0.5, 0.05, 0.45],\n",
    "    alternatives=[\"car 0\", \"car 1\"],\n",
    "    criteria=[\"autonomy\", \"comfort\", \"price\"],\n",
    ")\n",
    "dm"
   ]
  },
  {
   "cell_type": "code",
   "execution_count": 10,
   "id": "24545b37",
   "metadata": {},
   "outputs": [
    {
     "data": {
      "text/html": [
       "<div>\n",
       "<style scoped>\n",
       "    .dataframe tbody tr th:only-of-type {\n",
       "        vertical-align: middle;\n",
       "    }\n",
       "\n",
       "    .dataframe tbody tr th {\n",
       "        vertical-align: top;\n",
       "    }\n",
       "\n",
       "    .dataframe thead th {\n",
       "        text-align: right;\n",
       "    }\n",
       "</style>\n",
       "<table border=\"1\" class=\"dataframe\">\n",
       "  <thead>\n",
       "    <tr style=\"text-align: right;\">\n",
       "      <th>Criteria</th>\n",
       "      <th>autonomy</th>\n",
       "      <th>comfort</th>\n",
       "      <th>price</th>\n",
       "    </tr>\n",
       "    <tr>\n",
       "      <th>Alternatives</th>\n",
       "      <th></th>\n",
       "      <th></th>\n",
       "      <th></th>\n",
       "    </tr>\n",
       "  </thead>\n",
       "  <tbody>\n",
       "    <tr>\n",
       "      <th>car 0</th>\n",
       "      <td>1</td>\n",
       "      <td>2</td>\n",
       "      <td>3</td>\n",
       "    </tr>\n",
       "    <tr>\n",
       "      <th>car 1</th>\n",
       "      <td>4</td>\n",
       "      <td>5</td>\n",
       "      <td>6</td>\n",
       "    </tr>\n",
       "  </tbody>\n",
       "</table>\n",
       "</div>"
      ],
      "text/plain": [
       "Criteria      autonomy  comfort  price\n",
       "Alternatives                          \n",
       "car 0                1        2      3\n",
       "car 1                4        5      6"
      ]
     },
     "execution_count": 10,
     "metadata": {},
     "output_type": "execute_result"
    }
   ],
   "source": [
    "dm.matrix  # note how this data ignores the objectives and the weights"
   ]
  },
  {
   "cell_type": "code",
   "execution_count": 11,
   "id": "368ca666",
   "metadata": {},
   "outputs": [
    {
     "data": {
      "text/plain": [
       "autonomy    MAX\n",
       "comfort     MAX\n",
       "price       MIN\n",
       "Name: Objectives, dtype: object"
      ]
     },
     "execution_count": 11,
     "metadata": {},
     "output_type": "execute_result"
    }
   ],
   "source": [
    "dm.objectives"
   ]
  },
  {
   "cell_type": "code",
   "execution_count": 12,
   "id": "c73b7233",
   "metadata": {},
   "outputs": [
    {
     "data": {
      "text/plain": [
       "autonomy    0.50\n",
       "comfort     0.05\n",
       "price       0.45\n",
       "Name: Weights, dtype: float64"
      ]
     },
     "execution_count": 12,
     "metadata": {},
     "output_type": "execute_result"
    }
   ],
   "source": [
    "dm.weights"
   ]
  },
  {
   "cell_type": "code",
   "execution_count": 13,
   "id": "ca666eb5",
   "metadata": {},
   "outputs": [
    {
     "data": {
      "text/plain": [
       "(_ACArray(['car 0', 'car 1'], dtype=object),\n",
       " _ACArray(['autonomy', 'comfort', 'price'], dtype=object))"
      ]
     },
     "execution_count": 13,
     "metadata": {},
     "output_type": "execute_result"
    }
   ],
   "source": [
    "dm.alternatives, dm.criteria"
   ]
  },
  {
   "cell_type": "code",
   "execution_count": 14,
   "id": "c14942ee",
   "metadata": {},
   "outputs": [
    {
     "data": {
      "text/html": [
       "<div class='decisionmatrix'>\n",
       "<div>\n",
       "<style scoped>\n",
       "    .dataframe tbody tr th:only-of-type {\n",
       "        vertical-align: middle;\n",
       "    }\n",
       "\n",
       "    .dataframe tbody tr th {\n",
       "        vertical-align: top;\n",
       "    }\n",
       "\n",
       "    .dataframe thead th {\n",
       "        text-align: right;\n",
       "    }\n",
       "</style>\n",
       "<table border=\"1\" class=\"dataframe\">\n",
       "  <thead>\n",
       "    <tr style=\"text-align: right;\">\n",
       "      <th></th>\n",
       "      <th>autonomy[▲ 0.50]</th>\n",
       "      <th>comfort[▲ 0.05]</th>\n",
       "      <th>price[▼ 0.45]</th>\n",
       "    </tr>\n",
       "  </thead>\n",
       "  <tbody>\n",
       "    <tr>\n",
       "      <th>VW</th>\n",
       "      <td>1</td>\n",
       "      <td>2</td>\n",
       "      <td>3</td>\n",
       "    </tr>\n",
       "    <tr>\n",
       "      <th>Ford</th>\n",
       "      <td>4</td>\n",
       "      <td>5</td>\n",
       "      <td>6</td>\n",
       "    </tr>\n",
       "  </tbody>\n",
       "</table>\n",
       "</div><em class='decisionmatrix-dim'>2 Alternatives x 3 Criteria</em>\n",
       "</div>"
      ],
      "text/plain": [
       "      autonomy[▲ 0.50]  comfort[▲ 0.05]  price[▼ 0.45]\n",
       "VW                   1                2              3\n",
       "Ford                 4                5              6\n",
       "[2 Alternatives x 3 Criteria]"
      ]
     },
     "execution_count": 14,
     "metadata": {},
     "output_type": "execute_result"
    }
   ],
   "source": [
    "dm = dm.copy(alternatives=[\"VW\", \"Ford\"])\n",
    "dm"
   ]
  },
  {
   "cell_type": "code",
   "execution_count": 15,
   "id": "8871ef87",
   "metadata": {},
   "outputs": [
    {
     "data": {
      "text/plain": [
       "<AxesSubplot:xlabel='Criteria', ylabel='Alternatives'>"
      ]
     },
     "execution_count": 15,
     "metadata": {},
     "output_type": "execute_result"
    },
    {
     "data": {
      "image/png": "[encoded data removed]",
      "text/plain": [
       "<Figure size 640x480 with 2 Axes>"
      ]
     },
     "metadata": {},
     "output_type": "display_data"
    }
   ],
   "source": [
    "dm.plot()"
   ]
  },
  {
   "cell_type": "code",
   "execution_count": 16,
   "id": "e079ed90",
   "metadata": {},
   "outputs": [
    {
     "data": {
      "text/plain": [
       "<AxesSubplot:xlabel='Criteria'>"
      ]
     },
     "execution_count": 16,
     "metadata": {},
     "output_type": "execute_result"
    },
    {
     "data": {
      "image/png": "[encoded data removed]",
      "text/plain": [
       "<Figure size 640x96 with 2 Axes>"
      ]
     },
     "metadata": {},
     "output_type": "display_data"
    }
   ],
   "source": [
    "dm.plot.wheatmap()"
   ]
  },
  {
   "cell_type": "code",
   "execution_count": 17,
   "id": "f9246a61",
   "metadata": {},
   "outputs": [
    {
     "data": {
      "text/plain": [
       "<AxesSubplot:ylabel='Density'>"
      ]
     },
     "execution_count": 17,
     "metadata": {},
     "output_type": "execute_result"
    },
    {
     "data": {
      "image/png": "[encoded data removed]",
      "text/plain": [
       "<Figure size 640x480 with 1 Axes>"
      ]
     },
     "metadata": {},
     "output_type": "display_data"
    }
   ],
   "source": [
    "dm.plot(\"kde\")"
   ]
  },
  {
   "cell_type": "code",
   "execution_count": 19,
   "id": "afd0061b",
   "metadata": {},
   "outputs": [
    {
     "data": {
      "text/plain": [
       "<AxesSubplot:ylabel='Density'>"
      ]
     },
     "execution_count": 19,
     "metadata": {},
     "output_type": "execute_result"
    },
    {
     "data": {
      "image/png": "[encoded data removed]",
      "text/plain": [
       "<Figure size 640x480 with 1 Axes>"
      ]
     },
     "metadata": {},
     "output_type": "display_data"
    }
   ],
   "source": [
    "dm.plot.kde()"
   ]
  },
  {
   "cell_type": "code",
   "execution_count": 20,
   "id": "08d4f577",
   "metadata": {},
   "outputs": [
    {
     "data": {
      "text/plain": [
       "<AxesSubplot:>"
      ]
     },
     "execution_count": 20,
     "metadata": {},
     "output_type": "execute_result"
    },
    {
     "data": {
      "image/png": "[encoded data removed]",
      "text/plain": [
       "<Figure size 640x480 with 1 Axes>"
      ]
     },
     "metadata": {},
     "output_type": "display_data"
    }
   ],
   "source": [
    "dm.plot.wbar(cmap=\"viridis\")"
   ]
  },
  {
   "cell_type": "code",
   "execution_count": 21,
   "id": "ba59dc6c",
   "metadata": {},
   "outputs": [],
   "source": [
    "from skcriteria.preprocessing import invert_objectives, scalers"
   ]
  },
  {
   "cell_type": "code",
   "execution_count": 22,
   "id": "dba0ebc8",
   "metadata": {},
   "outputs": [
    {
     "data": {
      "text/html": [
       "<div class='decisionmatrix'>\n",
       "<div>\n",
       "<style scoped>\n",
       "    .dataframe tbody tr th:only-of-type {\n",
       "        vertical-align: middle;\n",
       "    }\n",
       "\n",
       "    .dataframe tbody tr th {\n",
       "        vertical-align: top;\n",
       "    }\n",
       "\n",
       "    .dataframe thead th {\n",
       "        text-align: right;\n",
       "    }\n",
       "</style>\n",
       "<table border=\"1\" class=\"dataframe\">\n",
       "  <thead>\n",
       "    <tr style=\"text-align: right;\">\n",
       "      <th></th>\n",
       "      <th>autonomy[▲ 0.50]</th>\n",
       "      <th>comfort[▲ 0.05]</th>\n",
       "      <th>price[▲ 0.45]</th>\n",
       "    </tr>\n",
       "  </thead>\n",
       "  <tbody>\n",
       "    <tr>\n",
       "      <th>VW</th>\n",
       "      <td>1</td>\n",
       "      <td>2</td>\n",
       "      <td>0.333333</td>\n",
       "    </tr>\n",
       "    <tr>\n",
       "      <th>Ford</th>\n",
       "      <td>4</td>\n",
       "      <td>5</td>\n",
       "      <td>0.166667</td>\n",
       "    </tr>\n",
       "  </tbody>\n",
       "</table>\n",
       "</div><em class='decisionmatrix-dim'>2 Alternatives x 3 Criteria</em>\n",
       "</div>"
      ],
      "text/plain": [
       "      autonomy[▲ 0.50]  comfort[▲ 0.05]  price[▲ 0.45]\n",
       "VW                   1                2       0.333333\n",
       "Ford                 4                5       0.166667\n",
       "[2 Alternatives x 3 Criteria]"
      ]
     },
     "execution_count": 22,
     "metadata": {},
     "output_type": "execute_result"
    }
   ],
   "source": [
    "inverter = invert_objectives.InvertMinimize()\n",
    "dmt = inverter.transform(dm)\n",
    "dmt"
   ]
  },
  {
   "cell_type": "code",
   "execution_count": 23,
   "id": "28a91e91",
   "metadata": {},
   "outputs": [
    {
     "data": {
      "text/html": [
       "<div class='decisionmatrix'>\n",
       "<div>\n",
       "<style scoped>\n",
       "    .dataframe tbody tr th:only-of-type {\n",
       "        vertical-align: middle;\n",
       "    }\n",
       "\n",
       "    .dataframe tbody tr th {\n",
       "        vertical-align: top;\n",
       "    }\n",
       "\n",
       "    .dataframe thead th {\n",
       "        text-align: right;\n",
       "    }\n",
       "</style>\n",
       "<table border=\"1\" class=\"dataframe\">\n",
       "  <thead>\n",
       "    <tr style=\"text-align: right;\">\n",
       "      <th></th>\n",
       "      <th>autonomy[▲ 0.50]</th>\n",
       "      <th>comfort[▲ 0.05]</th>\n",
       "      <th>price[▲ 0.45]</th>\n",
       "    </tr>\n",
       "  </thead>\n",
       "  <tbody>\n",
       "    <tr>\n",
       "      <th>VW</th>\n",
       "      <td>0.2</td>\n",
       "      <td>0.285714</td>\n",
       "      <td>0.666667</td>\n",
       "    </tr>\n",
       "    <tr>\n",
       "      <th>Ford</th>\n",
       "      <td>0.8</td>\n",
       "      <td>0.714286</td>\n",
       "      <td>0.333333</td>\n",
       "    </tr>\n",
       "  </tbody>\n",
       "</table>\n",
       "</div><em class='decisionmatrix-dim'>2 Alternatives x 3 Criteria</em>\n",
       "</div>"
      ],
      "text/plain": [
       "      autonomy[▲ 0.50]  comfort[▲ 0.05]  price[▲ 0.45]\n",
       "VW                 0.2         0.285714       0.666667\n",
       "Ford               0.8         0.714286       0.333333\n",
       "[2 Alternatives x 3 Criteria]"
      ]
     },
     "execution_count": 23,
     "metadata": {},
     "output_type": "execute_result"
    }
   ],
   "source": [
    "scaler = scalers.SumScaler(target=\"both\")\n",
    "dmt = scaler.transform(dmt)\n",
    "dmt"
   ]
  },
  {
   "cell_type": "code",
   "execution_count": 24,
   "id": "ddccb223",
   "metadata": {},
   "outputs": [
    {
     "data": {
      "image/png": "[encoded data removed]",
      "text/plain": [
       "<Figure size 1200x500 with 2 Axes>"
      ]
     },
     "metadata": {},
     "output_type": "display_data"
    }
   ],
   "source": [
    "# we are going to user matplotlib capabilities of creat multiple figures\n",
    "import matplotlib.pyplot as plt\n",
    "\n",
    "# we create 2 axis with the same y axis\n",
    "fig, axs = plt.subplots(1, 2, figsize=(12, 5), sharey=True)\n",
    "\n",
    "# in the first axis we plot the criteria KDE\n",
    "dmt.plot.kde(ax=axs[0])\n",
    "axs[0].set_title(\"Criteria\")\n",
    "\n",
    "\n",
    "# in the second axis we plot the weights as bars\n",
    "dmt.plot.wbar(ax=axs[1])\n",
    "axs[1].set_title(\"Weights\")\n",
    "\n",
    "# adjust the layout of the figute based on the content\n",
    "fig.tight_layout()"
   ]
  },
  {
   "cell_type": "code",
   "execution_count": 25,
   "id": "09df7aa0",
   "metadata": {},
   "outputs": [],
   "source": [
    "from skcriteria.madm import simple"
   ]
  },
  {
   "cell_type": "code",
   "execution_count": 26,
   "id": "92c6633f",
   "metadata": {},
   "outputs": [
    {
     "data": {
      "text/html": [
       "<div class='skcresult-rank skcresult'>\n",
       "<style type=\"text/css\">\n",
       "</style>\n",
       "<table id=\"T_3b0be\">\n",
       "  <thead>\n",
       "    <tr>\n",
       "      <th class=\"index_name level0\" >Alternatives</th>\n",
       "      <th id=\"T_3b0be_level0_col0\" class=\"col_heading level0 col0\" >VW</th>\n",
       "      <th id=\"T_3b0be_level0_col1\" class=\"col_heading level0 col1\" >Ford</th>\n",
       "    </tr>\n",
       "  </thead>\n",
       "  <tbody>\n",
       "    <tr>\n",
       "      <th id=\"T_3b0be_level0_row0\" class=\"row_heading level0 row0\" >Rank</th>\n",
       "      <td id=\"T_3b0be_row0_col0\" class=\"data row0 col0\" >2</td>\n",
       "      <td id=\"T_3b0be_row0_col1\" class=\"data row0 col1\" >1</td>\n",
       "    </tr>\n",
       "  </tbody>\n",
       "</table>\n",
       "<em class='skcresult-method'>Method: WeightedSumModel</em>\n",
       "</div>"
      ],
      "text/plain": [
       "Alternatives  VW  Ford\n",
       "Rank           2     1\n",
       "[Method: WeightedSumModel]"
      ]
     },
     "execution_count": 26,
     "metadata": {},
     "output_type": "execute_result"
    }
   ],
   "source": [
    "dec = simple.WeightedSumModel()\n",
    "rank = dec.evaluate(dmt)  # we use the tansformed version of the data\n",
    "rank"
   ]
  },
  {
   "cell_type": "code",
   "execution_count": 27,
   "id": "d37aaca9",
   "metadata": {},
   "outputs": [
    {
     "data": {
      "text/plain": [
       "<extra {'score'}>"
      ]
     },
     "execution_count": 27,
     "metadata": {},
     "output_type": "execute_result"
    }
   ],
   "source": [
    "rank.e_"
   ]
  },
  {
   "cell_type": "code",
   "execution_count": 28,
   "id": "ad38ec63",
   "metadata": {},
   "outputs": [
    {
     "data": {
      "text/plain": [
       "array([0.41428571, 0.58571429])"
      ]
     },
     "execution_count": 28,
     "metadata": {},
     "output_type": "execute_result"
    }
   ],
   "source": [
    "rank.e_.score"
   ]
  },
  {
   "cell_type": "code",
   "execution_count": 29,
   "id": "3a3bc5b0",
   "metadata": {},
   "outputs": [
    {
     "data": {
      "text/plain": [
       "array([2, 1])"
      ]
     },
     "execution_count": 29,
     "metadata": {},
     "output_type": "execute_result"
    }
   ],
   "source": [
    "rank.rank_"
   ]
  },
  {
   "cell_type": "code",
   "execution_count": 30,
   "id": "67335481",
   "metadata": {},
   "outputs": [
    {
     "data": {
      "text/plain": [
       "array(['VW', 'Ford'], dtype=object)"
      ]
     },
     "execution_count": 30,
     "metadata": {},
     "output_type": "execute_result"
    }
   ],
   "source": [
    "rank.alternatives"
   ]
  },
  {
   "cell_type": "code",
   "execution_count": 31,
   "id": "380267a3",
   "metadata": {},
   "outputs": [
    {
     "data": {
      "text/plain": [
       "'WeightedSumModel'"
      ]
     },
     "execution_count": 31,
     "metadata": {},
     "output_type": "execute_result"
    }
   ],
   "source": [
    "rank.method"
   ]
  },
  {
   "cell_type": "code",
   "execution_count": 32,
   "id": "2e82bcdd",
   "metadata": {},
   "outputs": [],
   "source": [
    "from skcriteria.madm import similarity  # here lives TOPSIS\n",
    "from skcriteria.pipeline import mkpipe  # this function is for create pipelines"
   ]
  },
  {
   "cell_type": "code",
   "execution_count": 33,
   "id": "a446a1b5",
   "metadata": {},
   "outputs": [
    {
     "data": {
      "text/plain": [
       "<SKCPipeline [steps=[('negateminimize', <NegateMinimize []>), ('vectorscaler', <VectorScaler [target='matrix']>), ('sumscaler', <SumScaler [target='weights']>), ('topsis', <TOPSIS [metric='euclidean']>)]]>"
      ]
     },
     "execution_count": 33,
     "metadata": {},
     "output_type": "execute_result"
    }
   ],
   "source": [
    "pipe = mkpipe(\n",
    "    invert_objectives.NegateMinimize(),\n",
    "    scalers.VectorScaler(target=\"matrix\"),  # this scaler transform the matrix\n",
    "    scalers.SumScaler(target=\"weights\"),  # and this transform the weights\n",
    "    similarity.TOPSIS(),\n",
    ")\n",
    "\n",
    "pipe"
   ]
  },
  {
   "cell_type": "code",
   "execution_count": 34,
   "id": "00334366",
   "metadata": {},
   "outputs": [
    {
     "data": {
      "text/html": [
       "<div class='skcresult-rank skcresult'>\n",
       "<style type=\"text/css\">\n",
       "</style>\n",
       "<table id=\"T_ec9e6\">\n",
       "  <thead>\n",
       "    <tr>\n",
       "      <th class=\"index_name level0\" >Alternatives</th>\n",
       "      <th id=\"T_ec9e6_level0_col0\" class=\"col_heading level0 col0\" >VW</th>\n",
       "      <th id=\"T_ec9e6_level0_col1\" class=\"col_heading level0 col1\" >Ford</th>\n",
       "    </tr>\n",
       "  </thead>\n",
       "  <tbody>\n",
       "    <tr>\n",
       "      <th id=\"T_ec9e6_level0_row0\" class=\"row_heading level0 row0\" >Rank</th>\n",
       "      <td id=\"T_ec9e6_row0_col0\" class=\"data row0 col0\" >2</td>\n",
       "      <td id=\"T_ec9e6_row0_col1\" class=\"data row0 col1\" >1</td>\n",
       "    </tr>\n",
       "  </tbody>\n",
       "</table>\n",
       "<em class='skcresult-method'>Method: TOPSIS</em>\n",
       "</div>"
      ],
      "text/plain": [
       "Alternatives  VW  Ford\n",
       "Rank           2     1\n",
       "[Method: TOPSIS]"
      ]
     },
     "execution_count": 34,
     "metadata": {},
     "output_type": "execute_result"
    }
   ],
   "source": [
    "rank = pipe.evaluate(dm)\n",
    "rank"
   ]
  },
  {
   "cell_type": "code",
   "execution_count": 35,
   "id": "e818a085",
   "metadata": {},
   "outputs": [
    {
     "name": "stdout",
     "output_type": "stream",
     "text": [
      "<extra {'anti_ideal', 'similarity', 'ideal'}>\n",
      "Ideal: [ 0.48507125  0.04642383 -0.20124612]\n",
      "Anti-Ideal: [ 0.12126781  0.01856953 -0.40249224]\n",
      "Similarity index: [0.35548671 0.64451329]\n"
     ]
    }
   ],
   "source": [
    "print(rank.e_)\n",
    "print(\"Ideal:\", rank.e_.ideal)\n",
    "print(\"Anti-Ideal:\", rank.e_.anti_ideal)\n",
    "print(\"Similarity index:\", rank.e_.similarity)"
   ]
  },
  {
   "cell_type": "code",
   "execution_count": 36,
   "id": "b3f391c7",
   "metadata": {},
   "outputs": [],
   "source": [
    "from skcriteria.madm import electre\n",
    "\n",
    "\n",
    "pipe_vector = mkpipe(\n",
    "    invert_objectives.InvertMinimize(),\n",
    "    scalers.VectorScaler(target=\"matrix\"),  # this scaler transform the matrix\n",
    "    scalers.SumScaler(target=\"weights\"),  # and this transform the weights\n",
    "    electre.ELECTRE1(p=0.65, q=0.35),\n",
    ")\n",
    "\n",
    "pipe_sum = mkpipe(\n",
    "    invert_objectives.InvertMinimize(),\n",
    "    scalers.SumScaler(target=\"weights\"),  # transform the matrix and weights\n",
    "    electre.ELECTRE1(p=0.65, q=0.35),\n",
    ")"
   ]
  },
  {
   "cell_type": "code",
   "execution_count": 37,
   "id": "38e51a01",
   "metadata": {},
   "outputs": [
    {
     "data": {
      "text/html": [
       "<div class='skcresult-kernel skcresult'>\n",
       "<style type=\"text/css\">\n",
       "</style>\n",
       "<table id=\"T_2ec31\">\n",
       "  <thead>\n",
       "    <tr>\n",
       "      <th class=\"index_name level0\" >Alternatives</th>\n",
       "      <th id=\"T_2ec31_level0_col0\" class=\"col_heading level0 col0\" >VW</th>\n",
       "      <th id=\"T_2ec31_level0_col1\" class=\"col_heading level0 col1\" >Ford</th>\n",
       "    </tr>\n",
       "  </thead>\n",
       "  <tbody>\n",
       "    <tr>\n",
       "      <th id=\"T_2ec31_level0_row0\" class=\"row_heading level0 row0\" >Kernel</th>\n",
       "      <td id=\"T_2ec31_row0_col0\" class=\"data row0 col0\" >True</td>\n",
       "      <td id=\"T_2ec31_row0_col1\" class=\"data row0 col1\" >True</td>\n",
       "    </tr>\n",
       "  </tbody>\n",
       "</table>\n",
       "<em class='skcresult-method'>Method: ELECTRE1</em>\n",
       "</div>"
      ],
      "text/plain": [
       "Alternatives    VW  Ford\n",
       "Kernel        True  True\n",
       "[Method: ELECTRE1]"
      ]
     },
     "execution_count": 37,
     "metadata": {},
     "output_type": "execute_result"
    }
   ],
   "source": [
    "kernel_vector = pipe_vector.evaluate(dm)\n",
    "kernel_vector"
   ]
  },
  {
   "cell_type": "code",
   "execution_count": 38,
   "id": "8a8b4d0b",
   "metadata": {},
   "outputs": [
    {
     "data": {
      "text/html": [
       "<div class='skcresult-kernel skcresult'>\n",
       "<style type=\"text/css\">\n",
       "</style>\n",
       "<table id=\"T_32eda\">\n",
       "  <thead>\n",
       "    <tr>\n",
       "      <th class=\"index_name level0\" >Alternatives</th>\n",
       "      <th id=\"T_32eda_level0_col0\" class=\"col_heading level0 col0\" >VW</th>\n",
       "      <th id=\"T_32eda_level0_col1\" class=\"col_heading level0 col1\" >Ford</th>\n",
       "    </tr>\n",
       "  </thead>\n",
       "  <tbody>\n",
       "    <tr>\n",
       "      <th id=\"T_32eda_level0_row0\" class=\"row_heading level0 row0\" >Kernel</th>\n",
       "      <td id=\"T_32eda_row0_col0\" class=\"data row0 col0\" >True</td>\n",
       "      <td id=\"T_32eda_row0_col1\" class=\"data row0 col1\" >True</td>\n",
       "    </tr>\n",
       "  </tbody>\n",
       "</table>\n",
       "<em class='skcresult-method'>Method: ELECTRE1</em>\n",
       "</div>"
      ],
      "text/plain": [
       "Alternatives    VW  Ford\n",
       "Kernel        True  True\n",
       "[Method: ELECTRE1]"
      ]
     },
     "execution_count": 38,
     "metadata": {},
     "output_type": "execute_result"
    }
   ],
   "source": [
    "kernel_sum = pipe_sum.evaluate(dm)\n",
    "kernel_sum"
   ]
  },
  {
   "cell_type": "code",
   "execution_count": 40,
   "id": "f80a67bb",
   "metadata": {},
   "outputs": [],
   "source": [
    "from skcriteria.cmp import RanksComparator, mkrank_cmp"
   ]
  },
  {
   "cell_type": "code",
   "execution_count": 41,
   "id": "76a3bb9a",
   "metadata": {},
   "outputs": [
    {
     "data": {
      "text/html": [
       "<div class='decisionmatrix'>\n",
       "<div>\n",
       "<style scoped>\n",
       "    .dataframe tbody tr th:only-of-type {\n",
       "        vertical-align: middle;\n",
       "    }\n",
       "\n",
       "    .dataframe tbody tr th {\n",
       "        vertical-align: top;\n",
       "    }\n",
       "\n",
       "    .dataframe thead th {\n",
       "        text-align: right;\n",
       "    }\n",
       "</style>\n",
       "<table border=\"1\" class=\"dataframe\">\n",
       "  <thead>\n",
       "    <tr style=\"text-align: right;\">\n",
       "      <th></th>\n",
       "      <th>xRV[▲ 1.0]</th>\n",
       "      <th>sRV[▼ 1.0]</th>\n",
       "      <th>xVV[▲ 1.0]</th>\n",
       "      <th>sVV[▼ 1.0]</th>\n",
       "      <th>xR2[▲ 1.0]</th>\n",
       "      <th>xm[▲ 1.0]</th>\n",
       "    </tr>\n",
       "  </thead>\n",
       "  <tbody>\n",
       "    <tr>\n",
       "      <th>ADA</th>\n",
       "      <td>0.029</td>\n",
       "      <td>0.156</td>\n",
       "      <td>8.144000e+09</td>\n",
       "      <td>1.586000e+10</td>\n",
       "      <td>0.312</td>\n",
       "      <td>1.821000e-11</td>\n",
       "    </tr>\n",
       "    <tr>\n",
       "      <th>BNB</th>\n",
       "      <td>0.033</td>\n",
       "      <td>0.167</td>\n",
       "      <td>6.141000e+09</td>\n",
       "      <td>1.118000e+10</td>\n",
       "      <td>0.396</td>\n",
       "      <td>9.167000e-09</td>\n",
       "    </tr>\n",
       "    <tr>\n",
       "      <th>BTC</th>\n",
       "      <td>0.015</td>\n",
       "      <td>0.097</td>\n",
       "      <td>2.095000e+11</td>\n",
       "      <td>1.388000e+11</td>\n",
       "      <td>0.281</td>\n",
       "      <td>1.254000e-08</td>\n",
       "    </tr>\n",
       "    <tr>\n",
       "      <th>DOGE</th>\n",
       "      <td>0.057</td>\n",
       "      <td>0.399</td>\n",
       "      <td>8.287000e+09</td>\n",
       "      <td>2.726000e+10</td>\n",
       "      <td>0.327</td>\n",
       "      <td>1.459000e-12</td>\n",
       "    </tr>\n",
       "    <tr>\n",
       "      <th>ETH</th>\n",
       "      <td>0.023</td>\n",
       "      <td>0.127</td>\n",
       "      <td>1.000000e+11</td>\n",
       "      <td>8.054000e+10</td>\n",
       "      <td>0.313</td>\n",
       "      <td>1.737000e-09</td>\n",
       "    </tr>\n",
       "    <tr>\n",
       "      <th>LINK</th>\n",
       "      <td>0.040</td>\n",
       "      <td>0.179</td>\n",
       "      <td>6.707000e+09</td>\n",
       "      <td>1.665000e+10</td>\n",
       "      <td>0.319</td>\n",
       "      <td>1.582000e-09</td>\n",
       "    </tr>\n",
       "    <tr>\n",
       "      <th>LTC</th>\n",
       "      <td>0.015</td>\n",
       "      <td>0.134</td>\n",
       "      <td>2.513000e+10</td>\n",
       "      <td>1.731000e+10</td>\n",
       "      <td>0.320</td>\n",
       "      <td>1.816000e-09</td>\n",
       "    </tr>\n",
       "    <tr>\n",
       "      <th>XLM</th>\n",
       "      <td>0.013</td>\n",
       "      <td>0.176</td>\n",
       "      <td>4.157000e+09</td>\n",
       "      <td>5.469000e+09</td>\n",
       "      <td>0.321</td>\n",
       "      <td>1.876000e-11</td>\n",
       "    </tr>\n",
       "    <tr>\n",
       "      <th>XRP</th>\n",
       "      <td>0.014</td>\n",
       "      <td>0.164</td>\n",
       "      <td>2.308000e+10</td>\n",
       "      <td>2.924000e+10</td>\n",
       "      <td>0.322</td>\n",
       "      <td>7.996000e-12</td>\n",
       "    </tr>\n",
       "  </tbody>\n",
       "</table>\n",
       "</div><em class='decisionmatrix-dim'>9 Alternatives x 6 Criteria</em>\n",
       "</div>"
      ],
      "text/plain": [
       "      xRV[▲ 1.0]  sRV[▼ 1.0]    xVV[▲ 1.0]    sVV[▼ 1.0]  xR2[▲ 1.0]  \\\n",
       "ADA        0.029       0.156  8.144000e+09  1.586000e+10       0.312   \n",
       "BNB        0.033       0.167  6.141000e+09  1.118000e+10       0.396   \n",
       "BTC        0.015       0.097  2.095000e+11  1.388000e+11       0.281   \n",
       "DOGE       0.057       0.399  8.287000e+09  2.726000e+10       0.327   \n",
       "ETH        0.023       0.127  1.000000e+11  8.054000e+10       0.313   \n",
       "LINK       0.040       0.179  6.707000e+09  1.665000e+10       0.319   \n",
       "LTC        0.015       0.134  2.513000e+10  1.731000e+10       0.320   \n",
       "XLM        0.013       0.176  4.157000e+09  5.469000e+09       0.321   \n",
       "XRP        0.014       0.164  2.308000e+10  2.924000e+10       0.322   \n",
       "\n",
       "         xm[▲ 1.0]  \n",
       "ADA   1.821000e-11  \n",
       "BNB   9.167000e-09  \n",
       "BTC   1.254000e-08  \n",
       "DOGE  1.459000e-12  \n",
       "ETH   1.737000e-09  \n",
       "LINK  1.582000e-09  \n",
       "LTC   1.816000e-09  \n",
       "XLM   1.876000e-11  \n",
       "XRP   7.996000e-12  \n",
       "[9 Alternatives x 6 Criteria]"
      ]
     },
     "execution_count": 41,
     "metadata": {},
     "output_type": "execute_result"
    }
   ],
   "source": [
    "import skcriteria as skc\n",
    "\n",
    "dm = skc.datasets.load_van2021evaluation(windows_size=7)\n",
    "dm"
   ]
  },
  {
   "cell_type": "code",
   "execution_count": 42,
   "id": "ce334eae",
   "metadata": {},
   "outputs": [],
   "source": [
    "from skcriteria.pipeline import mkpipe\n",
    "from skcriteria.preprocessing.invert_objectives import (\n",
    "    InvertMinimize,\n",
    "    NegateMinimize,\n",
    ")\n",
    "from skcriteria.preprocessing.filters import FilterNonDominated\n",
    "from skcriteria.preprocessing.scalers import SumScaler, VectorScaler\n",
    "from skcriteria.madm.simple import WeightedProductModel, WeightedSumModel\n",
    "from skcriteria.madm.similarity import TOPSIS\n",
    "\n",
    "ws_pipe = mkpipe(\n",
    "    InvertMinimize(),\n",
    "    FilterNonDominated(),\n",
    "    SumScaler(target=\"weights\"),\n",
    "    VectorScaler(target=\"matrix\"),\n",
    "    WeightedSumModel(),\n",
    ")\n",
    "\n",
    "wp_pipe = mkpipe(\n",
    "    InvertMinimize(),\n",
    "    FilterNonDominated(),\n",
    "    SumScaler(target=\"weights\"),\n",
    "    VectorScaler(target=\"matrix\"),\n",
    "    WeightedProductModel(),\n",
    ")\n",
    "\n",
    "tp_pipe = mkpipe(\n",
    "    NegateMinimize(),\n",
    "    FilterNonDominated(),\n",
    "    SumScaler(target=\"weights\"),\n",
    "    VectorScaler(target=\"matrix\"),\n",
    "    TOPSIS(),\n",
    ")"
   ]
  },
  {
   "cell_type": "code",
   "execution_count": 43,
   "id": "d54f2f1b",
   "metadata": {},
   "outputs": [
    {
     "data": {
      "text/html": [
       "<div class='skcresult-rank skcresult'>\n",
       "<style type=\"text/css\">\n",
       "</style>\n",
       "<table id=\"T_abfb1\">\n",
       "  <thead>\n",
       "    <tr>\n",
       "      <th class=\"index_name level0\" >Alternatives</th>\n",
       "      <th id=\"T_abfb1_level0_col0\" class=\"col_heading level0 col0\" >ADA</th>\n",
       "      <th id=\"T_abfb1_level0_col1\" class=\"col_heading level0 col1\" >BNB</th>\n",
       "      <th id=\"T_abfb1_level0_col2\" class=\"col_heading level0 col2\" >BTC</th>\n",
       "      <th id=\"T_abfb1_level0_col3\" class=\"col_heading level0 col3\" >DOGE</th>\n",
       "      <th id=\"T_abfb1_level0_col4\" class=\"col_heading level0 col4\" >ETH</th>\n",
       "      <th id=\"T_abfb1_level0_col5\" class=\"col_heading level0 col5\" >LINK</th>\n",
       "      <th id=\"T_abfb1_level0_col6\" class=\"col_heading level0 col6\" >LTC</th>\n",
       "      <th id=\"T_abfb1_level0_col7\" class=\"col_heading level0 col7\" >XLM</th>\n",
       "      <th id=\"T_abfb1_level0_col8\" class=\"col_heading level0 col8\" >XRP</th>\n",
       "    </tr>\n",
       "  </thead>\n",
       "  <tbody>\n",
       "    <tr>\n",
       "      <th id=\"T_abfb1_level0_row0\" class=\"row_heading level0 row0\" >Rank</th>\n",
       "      <td id=\"T_abfb1_row0_col0\" class=\"data row0 col0\" >8</td>\n",
       "      <td id=\"T_abfb1_row0_col1\" class=\"data row0 col1\" >2</td>\n",
       "      <td id=\"T_abfb1_row0_col2\" class=\"data row0 col2\" >1</td>\n",
       "      <td id=\"T_abfb1_row0_col3\" class=\"data row0 col3\" >7</td>\n",
       "      <td id=\"T_abfb1_row0_col4\" class=\"data row0 col4\" >3</td>\n",
       "      <td id=\"T_abfb1_row0_col5\" class=\"data row0 col5\" >5</td>\n",
       "      <td id=\"T_abfb1_row0_col6\" class=\"data row0 col6\" >6</td>\n",
       "      <td id=\"T_abfb1_row0_col7\" class=\"data row0 col7\" >4</td>\n",
       "      <td id=\"T_abfb1_row0_col8\" class=\"data row0 col8\" >9</td>\n",
       "    </tr>\n",
       "  </tbody>\n",
       "</table>\n",
       "<em class='skcresult-method'>Method: WeightedSumModel</em>\n",
       "</div>"
      ],
      "text/plain": [
       "Alternatives  ADA  BNB  BTC  DOGE  ETH  LINK  LTC  XLM  XRP\n",
       "Rank            8    2    1     7    3     5    6    4    9\n",
       "[Method: WeightedSumModel]"
      ]
     },
     "metadata": {},
     "output_type": "display_data"
    },
    {
     "data": {
      "text/html": [
       "<div class='skcresult-rank skcresult'>\n",
       "<style type=\"text/css\">\n",
       "</style>\n",
       "<table id=\"T_165e6\">\n",
       "  <thead>\n",
       "    <tr>\n",
       "      <th class=\"index_name level0\" >Alternatives</th>\n",
       "      <th id=\"T_165e6_level0_col0\" class=\"col_heading level0 col0\" >ADA</th>\n",
       "      <th id=\"T_165e6_level0_col1\" class=\"col_heading level0 col1\" >BNB</th>\n",
       "      <th id=\"T_165e6_level0_col2\" class=\"col_heading level0 col2\" >BTC</th>\n",
       "      <th id=\"T_165e6_level0_col3\" class=\"col_heading level0 col3\" >DOGE</th>\n",
       "      <th id=\"T_165e6_level0_col4\" class=\"col_heading level0 col4\" >ETH</th>\n",
       "      <th id=\"T_165e6_level0_col5\" class=\"col_heading level0 col5\" >LINK</th>\n",
       "      <th id=\"T_165e6_level0_col6\" class=\"col_heading level0 col6\" >LTC</th>\n",
       "      <th id=\"T_165e6_level0_col7\" class=\"col_heading level0 col7\" >XLM</th>\n",
       "      <th id=\"T_165e6_level0_col8\" class=\"col_heading level0 col8\" >XRP</th>\n",
       "    </tr>\n",
       "  </thead>\n",
       "  <tbody>\n",
       "    <tr>\n",
       "      <th id=\"T_165e6_level0_row0\" class=\"row_heading level0 row0\" >Rank</th>\n",
       "      <td id=\"T_165e6_row0_col0\" class=\"data row0 col0\" >6</td>\n",
       "      <td id=\"T_165e6_row0_col1\" class=\"data row0 col1\" >2</td>\n",
       "      <td id=\"T_165e6_row0_col2\" class=\"data row0 col2\" >1</td>\n",
       "      <td id=\"T_165e6_row0_col3\" class=\"data row0 col3\" >9</td>\n",
       "      <td id=\"T_165e6_row0_col4\" class=\"data row0 col4\" >3</td>\n",
       "      <td id=\"T_165e6_row0_col5\" class=\"data row0 col5\" >5</td>\n",
       "      <td id=\"T_165e6_row0_col6\" class=\"data row0 col6\" >4</td>\n",
       "      <td id=\"T_165e6_row0_col7\" class=\"data row0 col7\" >7</td>\n",
       "      <td id=\"T_165e6_row0_col8\" class=\"data row0 col8\" >8</td>\n",
       "    </tr>\n",
       "  </tbody>\n",
       "</table>\n",
       "<em class='skcresult-method'>Method: WeightedProductModel</em>\n",
       "</div>"
      ],
      "text/plain": [
       "Alternatives  ADA  BNB  BTC  DOGE  ETH  LINK  LTC  XLM  XRP\n",
       "Rank            6    2    1     9    3     5    4    7    8\n",
       "[Method: WeightedProductModel]"
      ]
     },
     "metadata": {},
     "output_type": "display_data"
    },
    {
     "data": {
      "text/html": [
       "<div class='skcresult-rank skcresult'>\n",
       "<style type=\"text/css\">\n",
       "</style>\n",
       "<table id=\"T_bce67\">\n",
       "  <thead>\n",
       "    <tr>\n",
       "      <th class=\"index_name level0\" >Alternatives</th>\n",
       "      <th id=\"T_bce67_level0_col0\" class=\"col_heading level0 col0\" >ADA</th>\n",
       "      <th id=\"T_bce67_level0_col1\" class=\"col_heading level0 col1\" >BNB</th>\n",
       "      <th id=\"T_bce67_level0_col2\" class=\"col_heading level0 col2\" >BTC</th>\n",
       "      <th id=\"T_bce67_level0_col3\" class=\"col_heading level0 col3\" >DOGE</th>\n",
       "      <th id=\"T_bce67_level0_col4\" class=\"col_heading level0 col4\" >ETH</th>\n",
       "      <th id=\"T_bce67_level0_col5\" class=\"col_heading level0 col5\" >LINK</th>\n",
       "      <th id=\"T_bce67_level0_col6\" class=\"col_heading level0 col6\" >LTC</th>\n",
       "      <th id=\"T_bce67_level0_col7\" class=\"col_heading level0 col7\" >XLM</th>\n",
       "      <th id=\"T_bce67_level0_col8\" class=\"col_heading level0 col8\" >XRP</th>\n",
       "    </tr>\n",
       "  </thead>\n",
       "  <tbody>\n",
       "    <tr>\n",
       "      <th id=\"T_bce67_level0_row0\" class=\"row_heading level0 row0\" >Rank</th>\n",
       "      <td id=\"T_bce67_row0_col0\" class=\"data row0 col0\" >6</td>\n",
       "      <td id=\"T_bce67_row0_col1\" class=\"data row0 col1\" >2</td>\n",
       "      <td id=\"T_bce67_row0_col2\" class=\"data row0 col2\" >1</td>\n",
       "      <td id=\"T_bce67_row0_col3\" class=\"data row0 col3\" >8</td>\n",
       "      <td id=\"T_bce67_row0_col4\" class=\"data row0 col4\" >5</td>\n",
       "      <td id=\"T_bce67_row0_col5\" class=\"data row0 col5\" >3</td>\n",
       "      <td id=\"T_bce67_row0_col6\" class=\"data row0 col6\" >4</td>\n",
       "      <td id=\"T_bce67_row0_col7\" class=\"data row0 col7\" >7</td>\n",
       "      <td id=\"T_bce67_row0_col8\" class=\"data row0 col8\" >9</td>\n",
       "    </tr>\n",
       "  </tbody>\n",
       "</table>\n",
       "<em class='skcresult-method'>Method: TOPSIS</em>\n",
       "</div>"
      ],
      "text/plain": [
       "Alternatives  ADA  BNB  BTC  DOGE  ETH  LINK  LTC  XLM  XRP\n",
       "Rank            6    2    1     8    5     3    4    7    9\n",
       "[Method: TOPSIS]"
      ]
     },
     "metadata": {},
     "output_type": "display_data"
    }
   ],
   "source": [
    "wsum_result = ws_pipe.evaluate(dm)\n",
    "wprod_result = wp_pipe.evaluate(dm)\n",
    "tp_result = tp_pipe.evaluate(dm)\n",
    "\n",
    "display(wsum_result, wprod_result, tp_result)"
   ]
  },
  {
   "cell_type": "code",
   "execution_count": 44,
   "id": "8ad5f573",
   "metadata": {},
   "outputs": [
    {
     "data": {
      "text/plain": [
       "<RanksComparator [ranks=['ts', 'ws', 'wp']]>"
      ]
     },
     "execution_count": 44,
     "metadata": {},
     "output_type": "execute_result"
    }
   ],
   "source": [
    "RanksComparator([(\"ts\", tp_result), (\"ws\", wsum_result), (\"wp\", wprod_result)])"
   ]
  },
  {
   "cell_type": "code",
   "execution_count": 45,
   "id": "cc6be1ca",
   "metadata": {},
   "outputs": [
    {
     "data": {
      "text/plain": [
       "<RanksComparator [ranks=['TOPSIS', 'WeightedSumModel', 'WeightedProductModel']]>"
      ]
     },
     "execution_count": 45,
     "metadata": {},
     "output_type": "execute_result"
    }
   ],
   "source": [
    "rcmp = mkrank_cmp(tp_result, wsum_result, wprod_result)\n",
    "rcmp"
   ]
  },
  {
   "cell_type": "code",
   "execution_count": 46,
   "id": "9f1b68d4",
   "metadata": {},
   "outputs": [
    {
     "data": {
      "text/html": [
       "<div>\n",
       "<style scoped>\n",
       "    .dataframe tbody tr th:only-of-type {\n",
       "        vertical-align: middle;\n",
       "    }\n",
       "\n",
       "    .dataframe tbody tr th {\n",
       "        vertical-align: top;\n",
       "    }\n",
       "\n",
       "    .dataframe thead th {\n",
       "        text-align: right;\n",
       "    }\n",
       "</style>\n",
       "<table border=\"1\" class=\"dataframe\">\n",
       "  <thead>\n",
       "    <tr style=\"text-align: right;\">\n",
       "      <th>Method</th>\n",
       "      <th>TOPSIS</th>\n",
       "      <th>WeightedSumModel</th>\n",
       "      <th>WeightedProductModel</th>\n",
       "    </tr>\n",
       "    <tr>\n",
       "      <th>Method</th>\n",
       "      <th></th>\n",
       "      <th></th>\n",
       "      <th></th>\n",
       "    </tr>\n",
       "  </thead>\n",
       "  <tbody>\n",
       "    <tr>\n",
       "      <th>TOPSIS</th>\n",
       "      <td>1.000000</td>\n",
       "      <td>0.783333</td>\n",
       "      <td>0.916667</td>\n",
       "    </tr>\n",
       "    <tr>\n",
       "      <th>WeightedSumModel</th>\n",
       "      <td>0.783333</td>\n",
       "      <td>1.000000</td>\n",
       "      <td>0.816667</td>\n",
       "    </tr>\n",
       "    <tr>\n",
       "      <th>WeightedProductModel</th>\n",
       "      <td>0.916667</td>\n",
       "      <td>0.816667</td>\n",
       "      <td>1.000000</td>\n",
       "    </tr>\n",
       "  </tbody>\n",
       "</table>\n",
       "</div>"
      ],
      "text/plain": [
       "Method                  TOPSIS  WeightedSumModel  WeightedProductModel\n",
       "Method                                                                \n",
       "TOPSIS                1.000000          0.783333              0.916667\n",
       "WeightedSumModel      0.783333          1.000000              0.816667\n",
       "WeightedProductModel  0.916667          0.816667              1.000000"
      ]
     },
     "execution_count": 46,
     "metadata": {},
     "output_type": "execute_result"
    }
   ],
   "source": [
    "rcmp.corr()  # by default the pearson correlation is used"
   ]
  },
  {
   "cell_type": "code",
   "execution_count": 47,
   "id": "2971ea1f",
   "metadata": {},
   "outputs": [
    {
     "data": {
      "text/html": [
       "<div>\n",
       "<style scoped>\n",
       "    .dataframe tbody tr th:only-of-type {\n",
       "        vertical-align: middle;\n",
       "    }\n",
       "\n",
       "    .dataframe tbody tr th {\n",
       "        vertical-align: top;\n",
       "    }\n",
       "\n",
       "    .dataframe thead th {\n",
       "        text-align: right;\n",
       "    }\n",
       "</style>\n",
       "<table border=\"1\" class=\"dataframe\">\n",
       "  <thead>\n",
       "    <tr style=\"text-align: right;\">\n",
       "      <th>Method</th>\n",
       "      <th>TOPSIS</th>\n",
       "      <th>WeightedSumModel</th>\n",
       "      <th>WeightedProductModel</th>\n",
       "    </tr>\n",
       "    <tr>\n",
       "      <th>Method</th>\n",
       "      <th></th>\n",
       "      <th></th>\n",
       "      <th></th>\n",
       "    </tr>\n",
       "  </thead>\n",
       "  <tbody>\n",
       "    <tr>\n",
       "      <th>TOPSIS</th>\n",
       "      <td>1.000000</td>\n",
       "      <td>0.666667</td>\n",
       "      <td>0.777778</td>\n",
       "    </tr>\n",
       "    <tr>\n",
       "      <th>WeightedSumModel</th>\n",
       "      <td>0.666667</td>\n",
       "      <td>1.000000</td>\n",
       "      <td>0.666667</td>\n",
       "    </tr>\n",
       "    <tr>\n",
       "      <th>WeightedProductModel</th>\n",
       "      <td>0.777778</td>\n",
       "      <td>0.666667</td>\n",
       "      <td>1.000000</td>\n",
       "    </tr>\n",
       "  </tbody>\n",
       "</table>\n",
       "</div>"
      ],
      "text/plain": [
       "Method                  TOPSIS  WeightedSumModel  WeightedProductModel\n",
       "Method                                                                \n",
       "TOPSIS                1.000000          0.666667              0.777778\n",
       "WeightedSumModel      0.666667          1.000000              0.666667\n",
       "WeightedProductModel  0.777778          0.666667              1.000000"
      ]
     },
     "execution_count": 47,
     "metadata": {},
     "output_type": "execute_result"
    }
   ],
   "source": [
    "rcmp.corr(method=\"kendall\")  # or we can use the kendal correlation"
   ]
  },
  {
   "cell_type": "code",
   "execution_count": null,
   "id": "4a02e3fe",
   "metadata": {},
   "outputs": [],
   "source": []
  }
 ],
 "metadata": {
  "kernelspec": {
   "display_name": "Python 3 (ipykernel)",
   "language": "python",
   "name": "python3"
  },
  "language_info": {
   "codemirror_mode": {
    "name": "ipython",
    "version": 3
   },
   "file_extension": ".py",
   "mimetype": "text/x-python",
   "name": "python",
   "nbconvert_exporter": "python",
   "pygments_lexer": "ipython3",
   "version": "3.9.13"
  }
 },
 "nbformat": 4,
 "nbformat_minor": 5
}
