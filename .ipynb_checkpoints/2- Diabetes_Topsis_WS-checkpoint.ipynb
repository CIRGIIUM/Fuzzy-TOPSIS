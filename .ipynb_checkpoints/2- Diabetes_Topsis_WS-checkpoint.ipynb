{
 "cells": [
  {
   "cell_type": "code",
   "execution_count": null,
   "id": "b581ca33",
   "metadata": {},
   "outputs": [],
   "source": [
    "# To be implemented\n",
    "# Multiple Decision makers"
   ]
  },
  {
   "cell_type": "code",
   "execution_count": 264,
   "id": "baa84f09",
   "metadata": {},
   "outputs": [
    {
     "data": {
      "text/html": [
       "<div>\n",
       "<style scoped>\n",
       "    .dataframe tbody tr th:only-of-type {\n",
       "        vertical-align: middle;\n",
       "    }\n",
       "\n",
       "    .dataframe tbody tr th {\n",
       "        vertical-align: top;\n",
       "    }\n",
       "\n",
       "    .dataframe thead th {\n",
       "        text-align: right;\n",
       "    }\n",
       "</style>\n",
       "<table border=\"1\" class=\"dataframe\">\n",
       "  <thead>\n",
       "    <tr style=\"text-align: right;\">\n",
       "      <th></th>\n",
       "      <th>Pregnancies MAX</th>\n",
       "      <th>Glucose MAX</th>\n",
       "      <th>BloodPressure MAX</th>\n",
       "      <th>SkinThickness MIN</th>\n",
       "      <th>Insulin MIN</th>\n",
       "      <th>BMI MAX</th>\n",
       "      <th>Age MAX</th>\n",
       "    </tr>\n",
       "  </thead>\n",
       "  <tbody>\n",
       "    <tr>\n",
       "      <th>0</th>\n",
       "      <td>Low</td>\n",
       "      <td>Low</td>\n",
       "      <td>Low</td>\n",
       "      <td>High</td>\n",
       "      <td>High</td>\n",
       "      <td>Low</td>\n",
       "      <td>Medium</td>\n",
       "    </tr>\n",
       "    <tr>\n",
       "      <th>1</th>\n",
       "      <td>Low</td>\n",
       "      <td>Low</td>\n",
       "      <td>Medium</td>\n",
       "      <td>Low</td>\n",
       "      <td>High</td>\n",
       "      <td>High</td>\n",
       "      <td>Low</td>\n",
       "    </tr>\n",
       "    <tr>\n",
       "      <th>2</th>\n",
       "      <td>Medium</td>\n",
       "      <td>Medium</td>\n",
       "      <td>High</td>\n",
       "      <td>High</td>\n",
       "      <td>Low</td>\n",
       "      <td>Low</td>\n",
       "      <td>Low</td>\n",
       "    </tr>\n",
       "    <tr>\n",
       "      <th>3</th>\n",
       "      <td>Low</td>\n",
       "      <td>Low</td>\n",
       "      <td>Low</td>\n",
       "      <td>High</td>\n",
       "      <td>High</td>\n",
       "      <td>Low</td>\n",
       "      <td>Low</td>\n",
       "    </tr>\n",
       "  </tbody>\n",
       "</table>\n",
       "</div>"
      ],
      "text/plain": [
       "  Pregnancies MAX Glucose MAX BloodPressure MAX SkinThickness MIN Insulin MIN  \\\n",
       "0             Low         Low               Low              High        High   \n",
       "1             Low         Low            Medium               Low        High   \n",
       "2          Medium      Medium              High              High         Low   \n",
       "3             Low         Low               Low              High        High   \n",
       "\n",
       "  BMI MAX Age MAX  \n",
       "0     Low  Medium  \n",
       "1    High     Low  \n",
       "2     Low     Low  \n",
       "3     Low     Low  "
      ]
     },
     "execution_count": 264,
     "metadata": {},
     "output_type": "execute_result"
    }
   ],
   "source": [
    "import pandas as pd\n",
    "\n",
    "df = pd.read_csv('diabetes2.csv')\n",
    "df.head()\n",
    "small_constant = 1e-6 \n",
    "\n",
    "# Replace zero values with the small constant in the remaining columns\n",
    "df[df.columns] = df[df.columns].replace(0, small_constant)\n",
    "df.head()\n"
   ]
  },
  {
   "cell_type": "code",
   "execution_count": 265,
   "id": "580878e7",
   "metadata": {
    "scrolled": false
   },
   "outputs": [
    {
     "data": {
      "text/html": [
       "<div>\n",
       "<style scoped>\n",
       "    .dataframe tbody tr th:only-of-type {\n",
       "        vertical-align: middle;\n",
       "    }\n",
       "\n",
       "    .dataframe tbody tr th {\n",
       "        vertical-align: top;\n",
       "    }\n",
       "\n",
       "    .dataframe thead th {\n",
       "        text-align: right;\n",
       "    }\n",
       "</style>\n",
       "<table border=\"1\" class=\"dataframe\">\n",
       "  <thead>\n",
       "    <tr style=\"text-align: right;\">\n",
       "      <th></th>\n",
       "      <th>Pregnancies MAX</th>\n",
       "      <th>Glucose MAX</th>\n",
       "      <th>BloodPressure MAX</th>\n",
       "      <th>SkinThickness MIN</th>\n",
       "      <th>Insulin MIN</th>\n",
       "      <th>BMI MAX</th>\n",
       "      <th>Age MAX</th>\n",
       "    </tr>\n",
       "  </thead>\n",
       "  <tbody>\n",
       "    <tr>\n",
       "      <th>0</th>\n",
       "      <td>1,3,5</td>\n",
       "      <td>1,3,5</td>\n",
       "      <td>1,3,5</td>\n",
       "      <td>5,7,9</td>\n",
       "      <td>5,7,9</td>\n",
       "      <td>1,3,5</td>\n",
       "      <td>3,5,7</td>\n",
       "    </tr>\n",
       "    <tr>\n",
       "      <th>1</th>\n",
       "      <td>1,3,5</td>\n",
       "      <td>1,3,5</td>\n",
       "      <td>3,5,7</td>\n",
       "      <td>1,3,5</td>\n",
       "      <td>5,7,9</td>\n",
       "      <td>5,7,9</td>\n",
       "      <td>1,3,5</td>\n",
       "    </tr>\n",
       "    <tr>\n",
       "      <th>2</th>\n",
       "      <td>3,5,7</td>\n",
       "      <td>3,5,7</td>\n",
       "      <td>5,7,9</td>\n",
       "      <td>5,7,9</td>\n",
       "      <td>1,3,5</td>\n",
       "      <td>1,3,5</td>\n",
       "      <td>1,3,5</td>\n",
       "    </tr>\n",
       "    <tr>\n",
       "      <th>3</th>\n",
       "      <td>1,3,5</td>\n",
       "      <td>1,3,5</td>\n",
       "      <td>1,3,5</td>\n",
       "      <td>5,7,9</td>\n",
       "      <td>5,7,9</td>\n",
       "      <td>1,3,5</td>\n",
       "      <td>1,3,5</td>\n",
       "    </tr>\n",
       "  </tbody>\n",
       "</table>\n",
       "</div>"
      ],
      "text/plain": [
       "  Pregnancies MAX Glucose MAX BloodPressure MAX SkinThickness MIN Insulin MIN  \\\n",
       "0           1,3,5       1,3,5             1,3,5             5,7,9       5,7,9   \n",
       "1           1,3,5       1,3,5             3,5,7             1,3,5       5,7,9   \n",
       "2           3,5,7       3,5,7             5,7,9             5,7,9       1,3,5   \n",
       "3           1,3,5       1,3,5             1,3,5             5,7,9       5,7,9   \n",
       "\n",
       "  BMI MAX Age MAX  \n",
       "0   1,3,5   3,5,7  \n",
       "1   5,7,9   1,3,5  \n",
       "2   1,3,5   1,3,5  \n",
       "3   1,3,5   1,3,5  "
      ]
     },
     "execution_count": 265,
     "metadata": {},
     "output_type": "execute_result"
    }
   ],
   "source": [
    "replace_dict = {\n",
    "    'Low': '1,3,5',\n",
    "    'Medium': '3,5,7',\n",
    "    'High': '5,7,9'\n",
    "}\n",
    "\n",
    "# Replace the values in the DataFrame\n",
    "df.replace(replace_dict, inplace=True)\n",
    "\n",
    "df.head()\n",
    "\n"
   ]
  },
  {
   "cell_type": "code",
   "execution_count": 266,
   "id": "eb197ae8",
   "metadata": {},
   "outputs": [
    {
     "name": "stdout",
     "output_type": "stream",
     "text": [
      "  Pregnancies MAX Glucose MAX BloodPressure MAX SkinThickness MIN  \\\n",
      "0           1,3,5       1,3,5             1,3,5    0.20,0.14,0.11   \n",
      "1           1,3,5       1,3,5             3,5,7    1.00,0.33,0.20   \n",
      "2           3,5,7       3,5,7             5,7,9    0.20,0.14,0.11   \n",
      "3           1,3,5       1,3,5             1,3,5    0.20,0.14,0.11   \n",
      "\n",
      "      Insulin MIN BMI MAX Age MAX  \n",
      "0  0.20,0.14,0.11   1,3,5   3,5,7  \n",
      "1  0.20,0.14,0.11   5,7,9   1,3,5  \n",
      "2  1.00,0.33,0.20   1,3,5   1,3,5  \n",
      "3  0.20,0.14,0.11   1,3,5   1,3,5  \n"
     ]
    },
    {
     "data": {
      "text/html": [
       "<div>\n",
       "<style scoped>\n",
       "    .dataframe tbody tr th:only-of-type {\n",
       "        vertical-align: middle;\n",
       "    }\n",
       "\n",
       "    .dataframe tbody tr th {\n",
       "        vertical-align: top;\n",
       "    }\n",
       "\n",
       "    .dataframe thead th {\n",
       "        text-align: right;\n",
       "    }\n",
       "</style>\n",
       "<table border=\"1\" class=\"dataframe\">\n",
       "  <thead>\n",
       "    <tr style=\"text-align: right;\">\n",
       "      <th></th>\n",
       "      <th>Pregnancies MAX</th>\n",
       "      <th>Glucose MAX</th>\n",
       "      <th>BloodPressure MAX</th>\n",
       "      <th>SkinThickness MIN</th>\n",
       "      <th>Insulin MIN</th>\n",
       "      <th>BMI MAX</th>\n",
       "      <th>Age MAX</th>\n",
       "    </tr>\n",
       "  </thead>\n",
       "  <tbody>\n",
       "    <tr>\n",
       "      <th>0</th>\n",
       "      <td>1,3,5</td>\n",
       "      <td>1,3,5</td>\n",
       "      <td>1,3,5</td>\n",
       "      <td>0.20,0.14,0.11</td>\n",
       "      <td>0.20,0.14,0.11</td>\n",
       "      <td>1,3,5</td>\n",
       "      <td>3,5,7</td>\n",
       "    </tr>\n",
       "    <tr>\n",
       "      <th>1</th>\n",
       "      <td>1,3,5</td>\n",
       "      <td>1,3,5</td>\n",
       "      <td>3,5,7</td>\n",
       "      <td>1.00,0.33,0.20</td>\n",
       "      <td>0.20,0.14,0.11</td>\n",
       "      <td>5,7,9</td>\n",
       "      <td>1,3,5</td>\n",
       "    </tr>\n",
       "    <tr>\n",
       "      <th>2</th>\n",
       "      <td>3,5,7</td>\n",
       "      <td>3,5,7</td>\n",
       "      <td>5,7,9</td>\n",
       "      <td>0.20,0.14,0.11</td>\n",
       "      <td>1.00,0.33,0.20</td>\n",
       "      <td>1,3,5</td>\n",
       "      <td>1,3,5</td>\n",
       "    </tr>\n",
       "    <tr>\n",
       "      <th>3</th>\n",
       "      <td>1,3,5</td>\n",
       "      <td>1,3,5</td>\n",
       "      <td>1,3,5</td>\n",
       "      <td>0.20,0.14,0.11</td>\n",
       "      <td>0.20,0.14,0.11</td>\n",
       "      <td>1,3,5</td>\n",
       "      <td>1,3,5</td>\n",
       "    </tr>\n",
       "  </tbody>\n",
       "</table>\n",
       "</div>"
      ],
      "text/plain": [
       "  Pregnancies MAX Glucose MAX BloodPressure MAX SkinThickness MIN  \\\n",
       "0           1,3,5       1,3,5             1,3,5    0.20,0.14,0.11   \n",
       "1           1,3,5       1,3,5             3,5,7    1.00,0.33,0.20   \n",
       "2           3,5,7       3,5,7             5,7,9    0.20,0.14,0.11   \n",
       "3           1,3,5       1,3,5             1,3,5    0.20,0.14,0.11   \n",
       "\n",
       "      Insulin MIN BMI MAX Age MAX  \n",
       "0  0.20,0.14,0.11   1,3,5   3,5,7  \n",
       "1  0.20,0.14,0.11   5,7,9   1,3,5  \n",
       "2  1.00,0.33,0.20   1,3,5   1,3,5  \n",
       "3  0.20,0.14,0.11   1,3,5   1,3,5  "
      ]
     },
     "execution_count": 266,
     "metadata": {},
     "output_type": "execute_result"
    }
   ],
   "source": [
    "# Define a function to find the inverse of a string of numbers separated by commas and round to 2 decimal places\n",
    "def find_inverse(value):\n",
    "    numbers = value.split(',')\n",
    "    inverse_numbers = [format(1 / float(num), '.2f') for num in numbers]\n",
    "    return ','.join(inverse_numbers)\n",
    "\n",
    "# Apply the function to columns with \"MIN\" in their names\n",
    "min_columns = [col for col in df.columns if 'MIN' in col]\n",
    "df[min_columns] = df[min_columns].applymap(find_inverse)\n",
    "\n",
    "# Print the modified DataFrame\n",
    "print(df)\n",
    "df.head()"
   ]
  },
  {
   "cell_type": "code",
   "execution_count": 267,
   "id": "b9b5c2b7",
   "metadata": {},
   "outputs": [
    {
     "name": "stdout",
     "output_type": "stream",
     "text": [
      "       Pregnancies MAX          Glucose MAX    BloodPressure MAX  \\\n",
      "0      [0.2, 0.6, 1.0]      [0.2, 0.6, 1.0]      [0.2, 0.6, 1.0]   \n",
      "1      [0.2, 0.6, 1.0]      [0.2, 0.6, 1.0]  [0.429, 0.714, 1.0]   \n",
      "2  [0.429, 0.714, 1.0]  [0.429, 0.714, 1.0]  [0.556, 0.778, 1.0]   \n",
      "3      [0.2, 0.6, 1.0]      [0.2, 0.6, 1.0]      [0.2, 0.6, 1.0]   \n",
      "\n",
      "    SkinThickness MIN         Insulin MIN              BMI MAX  \\\n",
      "0  [0.55, 0.786, 1.0]  [0.55, 0.786, 1.0]      [0.2, 0.6, 1.0]   \n",
      "1   [0.2, 0.606, 1.0]  [0.55, 0.786, 1.0]  [0.556, 0.778, 1.0]   \n",
      "2  [0.55, 0.786, 1.0]   [0.2, 0.606, 1.0]      [0.2, 0.6, 1.0]   \n",
      "3  [0.55, 0.786, 1.0]  [0.55, 0.786, 1.0]      [0.2, 0.6, 1.0]   \n",
      "\n",
      "               Age MAX  \n",
      "0  [0.429, 0.714, 1.0]  \n",
      "1      [0.2, 0.6, 1.0]  \n",
      "2      [0.2, 0.6, 1.0]  \n",
      "3      [0.2, 0.6, 1.0]  \n"
     ]
    }
   ],
   "source": [
    "# Define functions for normalization\n",
    "def normalize_max(column):\n",
    "    values = column.split(',')\n",
    "    max_value = max(map(int, values))\n",
    "    return [round(int(val) / max_value, 3) for val in values]\n",
    "\n",
    "def normalize_min(column):\n",
    "    values = column.split(',')\n",
    "    min_value = min(map(float, values))\n",
    "    normalized_values = [round(min_value / float(val), 3) for val in values]\n",
    "    return normalized_values\n",
    "\n",
    "# Apply normalization based on column names\n",
    "for column_name in df.columns:\n",
    "    if 'MAX' in column_name:\n",
    "        df[column_name] = df[column_name].apply(normalize_max)\n",
    "    elif 'MIN' in column_name:\n",
    "        df[column_name] = df[column_name].apply(normalize_min)\n",
    "\n",
    "print(df)"
   ]
  },
  {
   "cell_type": "code",
   "execution_count": 268,
   "id": "11c2d95f",
   "metadata": {},
   "outputs": [],
   "source": [
    "import skcriteria as skc \n"
   ]
  },
  {
   "cell_type": "code",
   "execution_count": 269,
   "id": "acd7797a",
   "metadata": {},
   "outputs": [
    {
     "data": {
      "text/plain": [
       "[[0.2, 0.2, 0.2, 0.55, 0.55, 0.2, 0.429],\n",
       " [0.2, 0.2, 0.429, 0.2, 0.55, 0.556, 0.2],\n",
       " [0.429, 0.429, 0.556, 0.55, 0.2, 0.2, 0.2],\n",
       " [0.2, 0.2, 0.2, 0.55, 0.55, 0.2, 0.2]]"
      ]
     },
     "execution_count": 269,
     "metadata": {},
     "output_type": "execute_result"
    }
   ],
   "source": [
    "# Remove the outer square brackets from all elements\n",
    "df = df.applymap(lambda x: x[0])\n",
    "matrix  = df.values.tolist()\n",
    "matrix\n"
   ]
  },
  {
   "cell_type": "code",
   "execution_count": 270,
   "id": "084f7fd6",
   "metadata": {},
   "outputs": [],
   "source": [
    "# Let's say we want to rank on which patient is more vulnerable to diabetes\n",
    "# We set maximization for - pregnancy, glucose, bp, bmi and age\n",
    "# We set minimization for skin thickness, insulin\n",
    "\n",
    "objectives = [max, max, max, min, min, max, max]\n",
    "\n",
    "\n",
    "# Assign weights to the conditions ( add up to 1 )\n",
    "\n",
    "weights=[0.1, 0.2, 0.2, 0.15, 0.15, 0.1, 0.1]"
   ]
  },
  {
   "cell_type": "code",
   "execution_count": 271,
   "id": "3902259e",
   "metadata": {},
   "outputs": [
    {
     "data": {
      "text/html": [
       "<div class='decisionmatrix'>\n",
       "<div>\n",
       "<style scoped>\n",
       "    .dataframe tbody tr th:only-of-type {\n",
       "        vertical-align: middle;\n",
       "    }\n",
       "\n",
       "    .dataframe tbody tr th {\n",
       "        vertical-align: top;\n",
       "    }\n",
       "\n",
       "    .dataframe thead th {\n",
       "        text-align: right;\n",
       "    }\n",
       "</style>\n",
       "<table border=\"1\" class=\"dataframe\">\n",
       "  <thead>\n",
       "    <tr style=\"text-align: right;\">\n",
       "      <th></th>\n",
       "      <th>Pregnancy MAX[▲ 0.10]</th>\n",
       "      <th>Glucose MAX[▲ 0.20]</th>\n",
       "      <th>BloodPressure MAX[▲ 0.20]</th>\n",
       "      <th>SkinThickness MIN[▼ 0.15]</th>\n",
       "      <th>Insulin MIN[▼ 0.15]</th>\n",
       "      <th>BMI MAX[▲ 0.10]</th>\n",
       "      <th>Age MAX[▲ 0.10]</th>\n",
       "    </tr>\n",
       "  </thead>\n",
       "  <tbody>\n",
       "    <tr>\n",
       "      <th>A0</th>\n",
       "      <td>0.200</td>\n",
       "      <td>0.200</td>\n",
       "      <td>0.200</td>\n",
       "      <td>0.55</td>\n",
       "      <td>0.55</td>\n",
       "      <td>0.200</td>\n",
       "      <td>0.429</td>\n",
       "    </tr>\n",
       "    <tr>\n",
       "      <th>A1</th>\n",
       "      <td>0.200</td>\n",
       "      <td>0.200</td>\n",
       "      <td>0.429</td>\n",
       "      <td>0.20</td>\n",
       "      <td>0.55</td>\n",
       "      <td>0.556</td>\n",
       "      <td>0.200</td>\n",
       "    </tr>\n",
       "    <tr>\n",
       "      <th>A2</th>\n",
       "      <td>0.429</td>\n",
       "      <td>0.429</td>\n",
       "      <td>0.556</td>\n",
       "      <td>0.55</td>\n",
       "      <td>0.20</td>\n",
       "      <td>0.200</td>\n",
       "      <td>0.200</td>\n",
       "    </tr>\n",
       "    <tr>\n",
       "      <th>A3</th>\n",
       "      <td>0.200</td>\n",
       "      <td>0.200</td>\n",
       "      <td>0.200</td>\n",
       "      <td>0.55</td>\n",
       "      <td>0.55</td>\n",
       "      <td>0.200</td>\n",
       "      <td>0.200</td>\n",
       "    </tr>\n",
       "  </tbody>\n",
       "</table>\n",
       "</div><em class='decisionmatrix-dim'>4 Alternatives x 7 Criteria</em>\n",
       "</div>"
      ],
      "text/plain": [
       "    Pregnancy MAX[▲ 0.10]  Glucose MAX[▲ 0.20]  BloodPressure MAX[▲ 0.20]  \\\n",
       "A0                  0.200                0.200                      0.200   \n",
       "A1                  0.200                0.200                      0.429   \n",
       "A2                  0.429                0.429                      0.556   \n",
       "A3                  0.200                0.200                      0.200   \n",
       "\n",
       "    SkinThickness MIN[▼ 0.15]  Insulin MIN[▼ 0.15]  BMI MAX[▲ 0.10]  \\\n",
       "A0                       0.55                 0.55            0.200   \n",
       "A1                       0.20                 0.55            0.556   \n",
       "A2                       0.55                 0.20            0.200   \n",
       "A3                       0.55                 0.55            0.200   \n",
       "\n",
       "    Age MAX[▲ 0.10]  \n",
       "A0            0.429  \n",
       "A1            0.200  \n",
       "A2            0.200  \n",
       "A3            0.200  \n",
       "[4 Alternatives x 7 Criteria]"
      ]
     },
     "execution_count": 271,
     "metadata": {},
     "output_type": "execute_result"
    }
   ],
   "source": [
    "# Create the Decision Matrix\n",
    "\n",
    "dm = skc.mkdm(\n",
    "    matrix,\n",
    "    objectives,\n",
    "    weights,\n",
    "    criteria= [\"Pregnancy MAX\",\n",
    "               \"Glucose MAX\",\n",
    "               \"BloodPressure MAX\",\n",
    "               \"SkinThickness MIN\",\n",
    "               \"Insulin MIN\",\n",
    "               \"BMI MAX\",\n",
    "               \"Age MAX\"]\n",
    ")\n",
    "dm"
   ]
  },
  {
   "cell_type": "code",
   "execution_count": 272,
   "id": "a6fc285a",
   "metadata": {
    "scrolled": true
   },
   "outputs": [
    {
     "data": {
      "text/html": [
       "<div>\n",
       "<style scoped>\n",
       "    .dataframe tbody tr th:only-of-type {\n",
       "        vertical-align: middle;\n",
       "    }\n",
       "\n",
       "    .dataframe tbody tr th {\n",
       "        vertical-align: top;\n",
       "    }\n",
       "\n",
       "    .dataframe thead th {\n",
       "        text-align: right;\n",
       "    }\n",
       "</style>\n",
       "<table border=\"1\" class=\"dataframe\">\n",
       "  <thead>\n",
       "    <tr style=\"text-align: right;\">\n",
       "      <th>Criteria</th>\n",
       "      <th>Pregnancy MAX</th>\n",
       "      <th>Glucose MAX</th>\n",
       "      <th>BloodPressure MAX</th>\n",
       "      <th>SkinThickness MIN</th>\n",
       "      <th>Insulin MIN</th>\n",
       "      <th>BMI MAX</th>\n",
       "      <th>Age MAX</th>\n",
       "    </tr>\n",
       "    <tr>\n",
       "      <th>Alternatives</th>\n",
       "      <th></th>\n",
       "      <th></th>\n",
       "      <th></th>\n",
       "      <th></th>\n",
       "      <th></th>\n",
       "      <th></th>\n",
       "      <th></th>\n",
       "    </tr>\n",
       "  </thead>\n",
       "  <tbody>\n",
       "    <tr>\n",
       "      <th>A0</th>\n",
       "      <td>0.200</td>\n",
       "      <td>0.200</td>\n",
       "      <td>0.200</td>\n",
       "      <td>0.55</td>\n",
       "      <td>0.55</td>\n",
       "      <td>0.200</td>\n",
       "      <td>0.429</td>\n",
       "    </tr>\n",
       "    <tr>\n",
       "      <th>A1</th>\n",
       "      <td>0.200</td>\n",
       "      <td>0.200</td>\n",
       "      <td>0.429</td>\n",
       "      <td>0.20</td>\n",
       "      <td>0.55</td>\n",
       "      <td>0.556</td>\n",
       "      <td>0.200</td>\n",
       "    </tr>\n",
       "    <tr>\n",
       "      <th>A2</th>\n",
       "      <td>0.429</td>\n",
       "      <td>0.429</td>\n",
       "      <td>0.556</td>\n",
       "      <td>0.55</td>\n",
       "      <td>0.20</td>\n",
       "      <td>0.200</td>\n",
       "      <td>0.200</td>\n",
       "    </tr>\n",
       "    <tr>\n",
       "      <th>A3</th>\n",
       "      <td>0.200</td>\n",
       "      <td>0.200</td>\n",
       "      <td>0.200</td>\n",
       "      <td>0.55</td>\n",
       "      <td>0.55</td>\n",
       "      <td>0.200</td>\n",
       "      <td>0.200</td>\n",
       "    </tr>\n",
       "  </tbody>\n",
       "</table>\n",
       "</div>"
      ],
      "text/plain": [
       "Criteria      Pregnancy MAX  Glucose MAX  BloodPressure MAX  \\\n",
       "Alternatives                                                  \n",
       "A0                    0.200        0.200              0.200   \n",
       "A1                    0.200        0.200              0.429   \n",
       "A2                    0.429        0.429              0.556   \n",
       "A3                    0.200        0.200              0.200   \n",
       "\n",
       "Criteria      SkinThickness MIN  Insulin MIN  BMI MAX  Age MAX  \n",
       "Alternatives                                                    \n",
       "A0                         0.55         0.55    0.200    0.429  \n",
       "A1                         0.20         0.55    0.556    0.200  \n",
       "A2                         0.55         0.20    0.200    0.200  \n",
       "A3                         0.55         0.55    0.200    0.200  "
      ]
     },
     "execution_count": 272,
     "metadata": {},
     "output_type": "execute_result"
    }
   ],
   "source": [
    "dm.matrix  # this data ignores the objectives and the weights"
   ]
  },
  {
   "cell_type": "code",
   "execution_count": 273,
   "id": "dd119906",
   "metadata": {},
   "outputs": [],
   "source": [
    "#dm.plot.wheatmap()"
   ]
  },
  {
   "cell_type": "code",
   "execution_count": 274,
   "id": "75d2c2bd",
   "metadata": {},
   "outputs": [
    {
     "data": {
      "text/plain": [
       "skcriteria.core.data.DecisionMatrix"
      ]
     },
     "execution_count": 274,
     "metadata": {},
     "output_type": "execute_result"
    }
   ],
   "source": [
    "type(dm)"
   ]
  },
  {
   "cell_type": "code",
   "execution_count": 275,
   "id": "1c438539",
   "metadata": {},
   "outputs": [
    {
     "data": {
      "text/html": [
       "<div class='decisionmatrix'>\n",
       "<div>\n",
       "<style scoped>\n",
       "    .dataframe tbody tr th:only-of-type {\n",
       "        vertical-align: middle;\n",
       "    }\n",
       "\n",
       "    .dataframe tbody tr th {\n",
       "        vertical-align: top;\n",
       "    }\n",
       "\n",
       "    .dataframe thead th {\n",
       "        text-align: right;\n",
       "    }\n",
       "</style>\n",
       "<table border=\"1\" class=\"dataframe\">\n",
       "  <thead>\n",
       "    <tr style=\"text-align: right;\">\n",
       "      <th></th>\n",
       "      <th>Pregnancy MAX[▲ 0.10]</th>\n",
       "      <th>Glucose MAX[▲ 0.20]</th>\n",
       "      <th>BloodPressure MAX[▲ 0.20]</th>\n",
       "      <th>SkinThickness MIN[▼ 0.15]</th>\n",
       "      <th>Insulin MIN[▼ 0.15]</th>\n",
       "      <th>BMI MAX[▲ 0.10]</th>\n",
       "      <th>Age MAX[▲ 0.10]</th>\n",
       "    </tr>\n",
       "  </thead>\n",
       "  <tbody>\n",
       "    <tr>\n",
       "      <th>A0</th>\n",
       "      <td>0.200</td>\n",
       "      <td>0.200</td>\n",
       "      <td>0.200</td>\n",
       "      <td>0.55</td>\n",
       "      <td>0.55</td>\n",
       "      <td>0.200</td>\n",
       "      <td>0.429</td>\n",
       "    </tr>\n",
       "    <tr>\n",
       "      <th>A1</th>\n",
       "      <td>0.200</td>\n",
       "      <td>0.200</td>\n",
       "      <td>0.429</td>\n",
       "      <td>0.20</td>\n",
       "      <td>0.55</td>\n",
       "      <td>0.556</td>\n",
       "      <td>0.200</td>\n",
       "    </tr>\n",
       "    <tr>\n",
       "      <th>A2</th>\n",
       "      <td>0.429</td>\n",
       "      <td>0.429</td>\n",
       "      <td>0.556</td>\n",
       "      <td>0.55</td>\n",
       "      <td>0.20</td>\n",
       "      <td>0.200</td>\n",
       "      <td>0.200</td>\n",
       "    </tr>\n",
       "    <tr>\n",
       "      <th>A3</th>\n",
       "      <td>0.200</td>\n",
       "      <td>0.200</td>\n",
       "      <td>0.200</td>\n",
       "      <td>0.55</td>\n",
       "      <td>0.55</td>\n",
       "      <td>0.200</td>\n",
       "      <td>0.200</td>\n",
       "    </tr>\n",
       "  </tbody>\n",
       "</table>\n",
       "</div><em class='decisionmatrix-dim'>4 Alternatives x 7 Criteria</em>\n",
       "</div>"
      ],
      "text/plain": [
       "    Pregnancy MAX[▲ 0.10]  Glucose MAX[▲ 0.20]  BloodPressure MAX[▲ 0.20]  \\\n",
       "A0                  0.200                0.200                      0.200   \n",
       "A1                  0.200                0.200                      0.429   \n",
       "A2                  0.429                0.429                      0.556   \n",
       "A3                  0.200                0.200                      0.200   \n",
       "\n",
       "    SkinThickness MIN[▼ 0.15]  Insulin MIN[▼ 0.15]  BMI MAX[▲ 0.10]  \\\n",
       "A0                       0.55                 0.55            0.200   \n",
       "A1                       0.20                 0.55            0.556   \n",
       "A2                       0.55                 0.20            0.200   \n",
       "A3                       0.55                 0.55            0.200   \n",
       "\n",
       "    Age MAX[▲ 0.10]  \n",
       "A0            0.429  \n",
       "A1            0.200  \n",
       "A2            0.200  \n",
       "A3            0.200  \n",
       "[4 Alternatives x 7 Criteria]"
      ]
     },
     "execution_count": 275,
     "metadata": {},
     "output_type": "execute_result"
    }
   ],
   "source": [
    "# Sum Scaler - Normalize scale (0-1)\n",
    "from skcriteria.preprocessing import invert_objectives, scalers\n",
    "\n",
    "scaler = scalers.SumScaler(target=\"weights\") #normalize WEIGHTS only. Values normalized earlier.\n",
    "dmt = scaler.transform(dm)\n",
    "dmt"
   ]
  },
  {
   "cell_type": "code",
   "execution_count": 276,
   "id": "8b250f52",
   "metadata": {
    "scrolled": true
   },
   "outputs": [
    {
     "data": {
      "image/png": "[encoded data removed]",
      "text/plain": [
       "<Figure size 600x500 with 1 Axes>"
      ]
     },
     "metadata": {},
     "output_type": "display_data"
    }
   ],
   "source": [
    "\n",
    "import matplotlib.pyplot as plt\n",
    "\n",
    "# Create a figure for the criteria KDE plot\n",
    "fig1, axs1 = plt.subplots(figsize=(6, 5))\n",
    "\n",
    "# Plot the criteria KDE\n",
    "dm.plot.kde(ax=axs1)\n",
    "axs1.set_title(\"Criteria KDE\")\n",
    "\n",
    "# Show the figure\n",
    "plt.show()\n",
    "\n"
   ]
  },
  {
   "cell_type": "code",
   "execution_count": 277,
   "id": "0100d5f9",
   "metadata": {
    "scrolled": false
   },
   "outputs": [
    {
     "data": {
      "image/png": "[encoded data removed]",
      "text/plain": [
       "<Figure size 600x500 with 1 Axes>"
      ]
     },
     "metadata": {},
     "output_type": "display_data"
    }
   ],
   "source": [
    "import matplotlib.pyplot as plt\n",
    "\n",
    "# Create a figure for the weights as bars plot\n",
    "fig2, axs2 = plt.subplots(figsize=(6, 5))\n",
    "\n",
    "# Plot the weights as bars\n",
    "dmt.plot.wbar(ax=axs2)\n",
    "axs2.set_title(\"Weights as Bars\")\n",
    "\n",
    "# Show the figure\n",
    "plt.show()\n"
   ]
  },
  {
   "cell_type": "code",
   "execution_count": 278,
   "id": "067a8ba3",
   "metadata": {},
   "outputs": [],
   "source": [
    "# TOPSIS\n",
    "from skcriteria.madm import similarity  \n",
    "from skcriteria.pipeline import mkpipe  \n"
   ]
  },
  {
   "cell_type": "code",
   "execution_count": 279,
   "id": "a89c96e1",
   "metadata": {},
   "outputs": [
    {
     "data": {
      "text/plain": [
       "<SKCPipeline [steps=[('negateminimize', <NegateMinimize []>), ('vectorscaler', <VectorScaler [target='matrix']>), ('sumscaler', <SumScaler [target='weights']>), ('topsis', <TOPSIS [metric='euclidean']>)]]>"
      ]
     },
     "execution_count": 279,
     "metadata": {},
     "output_type": "execute_result"
    }
   ],
   "source": [
    "pipe = mkpipe(\n",
    "    invert_objectives.NegateMinimize(),\n",
    "    scalers.VectorScaler(target=\"matrix\"),  # this scaler transform the matrix\n",
    "    scalers.SumScaler(target=\"weights\"),  # and this transform the weights\n",
    "    similarity.TOPSIS(),\n",
    ")\n",
    "\n",
    "pipe"
   ]
  },
  {
   "cell_type": "code",
   "execution_count": 280,
   "id": "94823a16",
   "metadata": {},
   "outputs": [
    {
     "data": {
      "text/html": [
       "<div class='skcresult-rank skcresult'>\n",
       "<style type=\"text/css\">\n",
       "</style>\n",
       "<table id=\"T_fb63f\">\n",
       "  <thead>\n",
       "    <tr>\n",
       "      <th class=\"index_name level0\" >Alternatives</th>\n",
       "      <th id=\"T_fb63f_level0_col0\" class=\"col_heading level0 col0\" >A0</th>\n",
       "      <th id=\"T_fb63f_level0_col1\" class=\"col_heading level0 col1\" >A1</th>\n",
       "      <th id=\"T_fb63f_level0_col2\" class=\"col_heading level0 col2\" >A2</th>\n",
       "      <th id=\"T_fb63f_level0_col3\" class=\"col_heading level0 col3\" >A3</th>\n",
       "    </tr>\n",
       "  </thead>\n",
       "  <tbody>\n",
       "    <tr>\n",
       "      <th id=\"T_fb63f_level0_row0\" class=\"row_heading level0 row0\" >Rank</th>\n",
       "      <td id=\"T_fb63f_row0_col0\" class=\"data row0 col0\" >3</td>\n",
       "      <td id=\"T_fb63f_row0_col1\" class=\"data row0 col1\" >2</td>\n",
       "      <td id=\"T_fb63f_row0_col2\" class=\"data row0 col2\" >1</td>\n",
       "      <td id=\"T_fb63f_row0_col3\" class=\"data row0 col3\" >4</td>\n",
       "    </tr>\n",
       "  </tbody>\n",
       "</table>\n",
       "<em class='skcresult-method'>Method: TOPSIS</em>\n",
       "</div>"
      ],
      "text/plain": [
       "Alternatives  A0  A1  A2  A3\n",
       "Rank           3   2   1   4\n",
       "[Method: TOPSIS]"
      ]
     },
     "execution_count": 280,
     "metadata": {},
     "output_type": "execute_result"
    }
   ],
   "source": [
    "rankTOPSIS = pipe.evaluate(dm)\n",
    "rankTOPSIS"
   ]
  },
  {
   "cell_type": "code",
   "execution_count": 260,
   "id": "1b71d77f",
   "metadata": {},
   "outputs": [
    {
     "name": "stdout",
     "output_type": "stream",
     "text": [
      "   Rank Candidate\n",
      "0     1        A0\n",
      "1     2        A2\n",
      "2     3        A1\n",
      "3     4        A3\n"
     ]
    }
   ],
   "source": [
    "import pandas as pd\n",
    "\n",
    "rank_list = rankTOPSIS.rank_\n",
    "rank_alternatives = rankTOPSIS.alternatives\n",
    "\n",
    "rank_df_topsis = pd.DataFrame({\n",
    "    'Rank': rank_list,\n",
    "    'Candidate': rank_alternatives\n",
    "})\n",
    "\n",
    "# Sort the DataFrame by rank in ascending order\n",
    "rank_df_topsis = rank_df_topsis.sort_values(by='Rank', ascending=True)\n",
    "rank_df_topsis = rank_df_topsis.reset_index(drop=True)\n",
    "\n",
    "print(rank_df_topsis)\n"
   ]
  },
  {
   "cell_type": "code",
   "execution_count": 261,
   "id": "196f3c7d",
   "metadata": {},
   "outputs": [
    {
     "name": "stdout",
     "output_type": "stream",
     "text": [
      "<extra {'ideal', 'similarity', 'anti_ideal'}>\n",
      "Ideal: [ 0.07343962  0.14687924  0.12116245 -0.0330334  -0.0330334   0.06653689\n",
      "  0.08487452]\n",
      "Anti-Ideal: [ 0.02641713  0.05283426  0.04358361 -0.09084184 -0.09084184  0.02393413\n",
      "  0.0305304 ]\n",
      "Similarity index: [0.74227496 0.39382825 0.54751958 0.        ]\n"
     ]
    }
   ],
   "source": [
    "#TOPSIS Metrics\n",
    "\n",
    "print(rankTOPSIS.e_)\n",
    "print(\"Ideal:\", rankTOPSIS.e_.ideal)\n",
    "print(\"Anti-Ideal:\", rankTOPSIS.e_.anti_ideal)\n",
    "print(\"Similarity index:\", rankTOPSIS.e_.similarity)"
   ]
  },
  {
   "cell_type": "code",
   "execution_count": null,
   "id": "d8171920",
   "metadata": {},
   "outputs": [],
   "source": []
  },
  {
   "cell_type": "code",
   "execution_count": null,
   "id": "180bc781",
   "metadata": {},
   "outputs": [],
   "source": []
  },
  {
   "cell_type": "code",
   "execution_count": null,
   "id": "1ae99a38",
   "metadata": {},
   "outputs": [],
   "source": []
  },
  {
   "cell_type": "code",
   "execution_count": 262,
   "id": "cd92a10a",
   "metadata": {},
   "outputs": [],
   "source": [
    "#from skcriteria.preprocessing import invert_objectives, scalers\n",
    "\n",
    "# Invert minimize - 1/ criterion\n",
    "\n",
    "#inverter = invert_objectives.InvertMinimize()\n",
    "#dmt = inverter.transform(dm)"
   ]
  },
  {
   "cell_type": "code",
   "execution_count": 263,
   "id": "36d3c9d3",
   "metadata": {},
   "outputs": [
    {
     "ename": "ValueError",
     "evalue": "WeightedSumModel can't operate with minimize objective",
     "output_type": "error",
     "traceback": [
      "\u001b[1;31m---------------------------------------------------------------------------\u001b[0m",
      "\u001b[1;31mValueError\u001b[0m                                Traceback (most recent call last)",
      "\u001b[1;32m~\\AppData\\Local\\Temp\\ipykernel_17992\\2178044926.py\u001b[0m in \u001b[0;36m<module>\u001b[1;34m\u001b[0m\n\u001b[0;32m      3\u001b[0m \u001b[1;33m\u001b[0m\u001b[0m\n\u001b[0;32m      4\u001b[0m \u001b[0mdec\u001b[0m \u001b[1;33m=\u001b[0m \u001b[0msimple\u001b[0m\u001b[1;33m.\u001b[0m\u001b[0mWeightedSumModel\u001b[0m\u001b[1;33m(\u001b[0m\u001b[1;33m)\u001b[0m\u001b[1;33m\u001b[0m\u001b[1;33m\u001b[0m\u001b[0m\n\u001b[1;32m----> 5\u001b[1;33m \u001b[0mrankWS\u001b[0m \u001b[1;33m=\u001b[0m \u001b[0mdec\u001b[0m\u001b[1;33m.\u001b[0m\u001b[0mevaluate\u001b[0m\u001b[1;33m(\u001b[0m\u001b[0mdm\u001b[0m\u001b[1;33m)\u001b[0m  \u001b[1;31m# we use the tansformed version of the data\u001b[0m\u001b[1;33m\u001b[0m\u001b[1;33m\u001b[0m\u001b[0m\n\u001b[0m\u001b[0;32m      6\u001b[0m \u001b[0mrankWS\u001b[0m\u001b[1;33m\u001b[0m\u001b[1;33m\u001b[0m\u001b[0m\n\u001b[0;32m      7\u001b[0m \u001b[1;33m\u001b[0m\u001b[0m\n",
      "\u001b[1;32m~\\anaconda3\\lib\\site-packages\\skcriteria\\madm\\_madm_base.py\u001b[0m in \u001b[0;36mevaluate\u001b[1;34m(self, dm)\u001b[0m\n\u001b[0;32m     62\u001b[0m         \u001b[0mdata\u001b[0m \u001b[1;33m=\u001b[0m \u001b[0mdm\u001b[0m\u001b[1;33m.\u001b[0m\u001b[0mto_dict\u001b[0m\u001b[1;33m(\u001b[0m\u001b[1;33m)\u001b[0m\u001b[1;33m\u001b[0m\u001b[1;33m\u001b[0m\u001b[0m\n\u001b[0;32m     63\u001b[0m \u001b[1;33m\u001b[0m\u001b[0m\n\u001b[1;32m---> 64\u001b[1;33m         \u001b[0mresult_data\u001b[0m\u001b[1;33m,\u001b[0m \u001b[0mextra\u001b[0m \u001b[1;33m=\u001b[0m \u001b[0mself\u001b[0m\u001b[1;33m.\u001b[0m\u001b[0m_evaluate_data\u001b[0m\u001b[1;33m(\u001b[0m\u001b[1;33m**\u001b[0m\u001b[0mdata\u001b[0m\u001b[1;33m)\u001b[0m\u001b[1;33m\u001b[0m\u001b[1;33m\u001b[0m\u001b[0m\n\u001b[0m\u001b[0;32m     65\u001b[0m \u001b[1;33m\u001b[0m\u001b[0m\n\u001b[0;32m     66\u001b[0m         \u001b[0malternatives\u001b[0m \u001b[1;33m=\u001b[0m \u001b[0mdata\u001b[0m\u001b[1;33m[\u001b[0m\u001b[1;34m\"alternatives\"\u001b[0m\u001b[1;33m]\u001b[0m\u001b[1;33m\u001b[0m\u001b[1;33m\u001b[0m\u001b[0m\n",
      "\u001b[1;32m~\\anaconda3\\lib\\site-packages\\skcriteria\\madm\\simple.py\u001b[0m in \u001b[0;36m_evaluate_data\u001b[1;34m(self, matrix, weights, objectives, **kwargs)\u001b[0m\n\u001b[0;32m     83\u001b[0m     \u001b[1;32mdef\u001b[0m \u001b[0m_evaluate_data\u001b[0m\u001b[1;33m(\u001b[0m\u001b[0mself\u001b[0m\u001b[1;33m,\u001b[0m \u001b[0mmatrix\u001b[0m\u001b[1;33m,\u001b[0m \u001b[0mweights\u001b[0m\u001b[1;33m,\u001b[0m \u001b[0mobjectives\u001b[0m\u001b[1;33m,\u001b[0m \u001b[1;33m**\u001b[0m\u001b[0mkwargs\u001b[0m\u001b[1;33m)\u001b[0m\u001b[1;33m:\u001b[0m\u001b[1;33m\u001b[0m\u001b[1;33m\u001b[0m\u001b[0m\n\u001b[0;32m     84\u001b[0m         \u001b[1;32mif\u001b[0m \u001b[0mObjective\u001b[0m\u001b[1;33m.\u001b[0m\u001b[0mMIN\u001b[0m\u001b[1;33m.\u001b[0m\u001b[0mvalue\u001b[0m \u001b[1;32min\u001b[0m \u001b[0mobjectives\u001b[0m\u001b[1;33m:\u001b[0m\u001b[1;33m\u001b[0m\u001b[1;33m\u001b[0m\u001b[0m\n\u001b[1;32m---> 85\u001b[1;33m             raise ValueError(\n\u001b[0m\u001b[0;32m     86\u001b[0m                 \u001b[1;34m\"WeightedSumModel can't operate with minimize objective\"\u001b[0m\u001b[1;33m\u001b[0m\u001b[1;33m\u001b[0m\u001b[0m\n\u001b[0;32m     87\u001b[0m             )\n",
      "\u001b[1;31mValueError\u001b[0m: WeightedSumModel can't operate with minimize objective"
     ]
    }
   ],
   "source": [
    "# Weighted Sum Model\n",
    "from skcriteria.madm import simple\n",
    "\n",
    "dec = simple.WeightedSumModel()\n",
    "rankWS = dec.evaluate(dm)  # we use the tansformed version of the data\n",
    "rankWS\n",
    "\n",
    "import pandas as pd\n",
    "\n",
    "rank_list = rankWS.rank_\n",
    "rank_alternatives = rankWS.alternatives\n",
    "\n",
    "rank_df_ws = pd.DataFrame({\n",
    "    'Rank': rank_list,\n",
    "    'Candidate': rank_alternatives\n",
    "})\n",
    "\n",
    "# Sort the DataFrame by rank in ascending order\n",
    "rank_df_ws = rank_df_ws.sort_values(by='Rank', ascending=True)\n",
    "rank_df_ws = rank_df_ws.reset_index(drop=True)\n",
    "\n",
    "print(rank_df_ws)"
   ]
  },
  {
   "cell_type": "code",
   "execution_count": null,
   "id": "a01b2642",
   "metadata": {},
   "outputs": [],
   "source": []
  },
  {
   "cell_type": "code",
   "execution_count": null,
   "id": "cf55a9aa",
   "metadata": {},
   "outputs": [],
   "source": []
  },
  {
   "cell_type": "code",
   "execution_count": null,
   "id": "a7bd6ca1",
   "metadata": {},
   "outputs": [],
   "source": []
  },
  {
   "cell_type": "code",
   "execution_count": null,
   "id": "32c4893f",
   "metadata": {},
   "outputs": [],
   "source": []
  }
 ],
 "metadata": {
  "kernelspec": {
   "display_name": "Python 3 (ipykernel)",
   "language": "python",
   "name": "python3"
  },
  "language_info": {
   "codemirror_mode": {
    "name": "ipython",
    "version": 3
   },
   "file_extension": ".py",
   "mimetype": "text/x-python",
   "name": "python",
   "nbconvert_exporter": "python",
   "pygments_lexer": "ipython3",
   "version": "3.9.13"
  }
 },
 "nbformat": 4,
 "nbformat_minor": 5
}
